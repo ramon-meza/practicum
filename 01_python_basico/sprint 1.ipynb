{
 "cells": [
  {
   "cell_type": "markdown",
   "metadata": {},
   "source": [
    "# Revisión (primera iteración)\n",
    "\n",
    "Hola, Ramón!\n",
    "\n",
    "Mi nombre es David Esparza Jasso y estoy feliz por revisar tu proyecto el día de hoy.\n",
    "\n",
    "\n",
    "\n",
    "Encontrarás mis comentarios abajo. - **por favor, no los muevas, modifiques o elimines**.\n",
    "\n",
    "\n",
    "Puedes encontrar mis comentarios en cajas verdes, amarillas y rojas como éstas:\n",
    "\n",
    "<div class=\"alert alert-block alert-success\">\n",
    "<b>Éxito</b> <a class=\"tocSkip\"></a>\n",
    "\n",
    "Correcto. Todo se hizo correctamente!\n",
    "</div>\n",
    "\n",
    "<div class=\"alert alert-block alert-warning\">\n",
    "<b>Atención</b> <a class=\"tocSkip\"></a>\n",
    "\n",
    "Observaciones. Algunas recomendaciones.\n",
    "</div>\n",
    "\n",
    "<div class=\"alert alert-block alert-danger\">\n",
    "\n",
    "<b>A resolver</b> <a class=\"tocSkip\"></a>\n",
    "\n",
    "Necesita correcciones. La parte correspondiente requiere algunas correcciones. El trabajo no puede ser aprobado con comentarios rojos sin corregir.\n",
    "</div>\n",
    "\n",
    "Puedes contestarme usando este tipo de cajas:\n",
    "\n",
    "<div class=\"alert alert-block alert-info\">\n",
    "<b>Respuesta del estudiante.</b> <a class=\"tocSkip\"></a>\n",
    "\n",
    "    \n",
    "En celdas como éstas puedes dejarme tus comentarios\n",
    "</div>\n",
    "\n",
    "Recuerda que, si deseas dejarme un comentario en alguna parte del documento, sólo tienes que dar doble clic sobre la celda de arriba, copiar el código, pegarlo en una nueva celda y sustituir la frase \"En celdas como éstas puedes dejarme tus comentarios\" por tu propio comentario. Asegúrate sólamente que la celda donde vayas a incluir tu comentario esté en formato \"Markdown\"."
   ]
  },
  {
   "cell_type": "markdown",
   "metadata": {},
   "source": [
    "<div class=\"alert alert-block alert-success\">\n",
    "<b>COMENTARIO GENERAL PRIMERA REVISIÓN</b> <a class=\"tocSkip\"></a>\n",
    "\n",
    "Ramón felicidades! Tu trabajo está aprobado. No tengo más que decir, aplicaste las instrucciones impecablemente, sólo te dejo algunas recomendaciones amarillas, chécalas por favor. Sigue esforzándote así!\n",
    "\n",
    "</div>"
   ]
  },
  {
   "cell_type": "markdown",
   "metadata": {
    "id": "E0vqbgi9ay0H"
   },
   "source": [
    "# Yandex.Music"
   ]
  },
  {
   "cell_type": "markdown",
   "metadata": {
    "id": "fhq_eyov_Zcs"
   },
   "source": [
    "# Contents <a id='back'></a>\n",
    "\n",
    "* [Introducción](#intro)\n",
    "* [Etapa 1. Descripción de los datos](#data_review)\n",
    "    * [Conclusions](#data_review_conclusions)\n",
    "* [Etapa 2. Data preprocessing](#data_preprocessing)\n",
    "    * [2.1 Estilo del encabezado](#header_style)\n",
    "    * [2.2 Valores ausentes](#missing_values)\n",
    "    * [2.3 Duplicados](#duplicates)\n",
    "    * [2.4 Conclusiones](#data_preprocessing_conclusions)\n",
    "* [Etapa 3. Prueba de hipótesis](#hypotheses)\n",
    "    * [3.1 Hipótesis 1: comparar el comportamiento del usuario en las dos ciudades](#activity)\n",
    "    * [3.2 Hipótesis 2: música al principio y al final de la semana](#week)\n",
    "    * [3.3 Hipótesis 3: preferencias de género en Springfield y Shelbyville](#genre)\n",
    "* [Conclusiones](#end)"
   ]
  },
  {
   "cell_type": "markdown",
   "metadata": {},
   "source": [
    "<div class=\"alert alert-block alert-success\">\n",
    "<b>Éxito</b> <a class=\"tocSkip\"></a>\n",
    "\n",
    "Muchas gracias por poner títulos y subtítulos, así como una tabla de contenidos!"
   ]
  },
  {
   "cell_type": "markdown",
   "metadata": {
    "id": "VUC88oWjTJw2"
   },
   "source": [
    "## Introducción <a id='intro'></a>\n",
    "Siempre que investiguemos, necesitamos formular hipótesis que después podamos probar. A veces aceptamos estas hipótesis; otras, las rechazamos. Para tomar las decisiones correctas, una empresa debe ser capaz de entender si está haciendo las suposiciones correctas.\n",
    "\n",
    "En este proyecto, compararás las preferencias musicales de las ciudades de Springfield y Shelbyville. Estudiarás datos reales de Yandex.Music para probar las hipótesis de abajo y comparar el comportamiento del usuario de esas dos ciudades.\n",
    "\n",
    "### Objetivo: \n",
    "Prueba tres hipótesis: \n",
    "1. La actividad de los usuarios difiere según el día de la semana y dependiendo de la ciudad. \n",
    "2. Los lunes por la mañana, los habitantes de Springfield y Shelbyville escuchan diferentes géneros. Lo mismo ocurre con los viernes por la noche. \n",
    "3. Los oyentes de Springfield y Shelbyville tienen preferencias distintas. En Springfield prefieren el pop mientras que en Shelbyville hay más aficionados al rap.\n",
    "\n",
    "### Etapas \n",
    "Los datos del comportamiento del usuario se almacenan en el archivo `/datasets/music_project_en.csv`. No hay ninguna información sobre la calidad de los datos así que necesitarás examinarlos antes de probar las hipótesis. \n",
    "\n",
    "Primero, evaluarás la calidad de los datos y verás si los problemas son significativos. Entonces, durante el preprocesamiento de datos, tomarás en cuenta los problemas más críticos.\n",
    " \n",
    "Tu proyecto consistirá en tres etapas:\n",
    " 1. Descripción de los datos\n",
    " 2. Preprocesamiento de datos\n",
    " 3. Prueba de hipótesis\n",
    " \n",
    "[Volver a Contenidos](#back)"
   ]
  },
  {
   "cell_type": "markdown",
   "metadata": {
    "id": "Ml1hmfXC_Zcs"
   },
   "source": [
    "## Etapa 1. Descripción de los datos <a id='data_review'></a>\n",
    "\n",
    "Abre los datos en Yandex.Music y examínalos."
   ]
  },
  {
   "cell_type": "markdown",
   "metadata": {
    "id": "57eAOGIz_Zcs"
   },
   "source": [
    "Necesitarás `pandas` así que impórtalo."
   ]
  },
  {
   "cell_type": "code",
   "execution_count": 1,
   "metadata": {
    "id": "AXN7PHPN_Zcs"
   },
   "outputs": [],
   "source": [
    "import pandas as pd # importando pandas\n"
   ]
  },
  {
   "cell_type": "markdown",
   "metadata": {
    "id": "SG23P8tt_Zcs"
   },
   "source": [
    "Lee el archivo `music_project_en.csv` de la carpeta `/datasets/` y guárdalo en la variable `df`:"
   ]
  },
  {
   "cell_type": "code",
   "execution_count": 2,
   "metadata": {
    "id": "fFVu7vqh_Zct"
   },
   "outputs": [
    {
     "data": {
      "text/html": [
       "<div>\n",
       "<style scoped>\n",
       "    .dataframe tbody tr th:only-of-type {\n",
       "        vertical-align: middle;\n",
       "    }\n",
       "\n",
       "    .dataframe tbody tr th {\n",
       "        vertical-align: top;\n",
       "    }\n",
       "\n",
       "    .dataframe thead th {\n",
       "        text-align: right;\n",
       "    }\n",
       "</style>\n",
       "<table border=\"1\" class=\"dataframe\">\n",
       "  <thead>\n",
       "    <tr style=\"text-align: right;\">\n",
       "      <th></th>\n",
       "      <th>userID</th>\n",
       "      <th>Track</th>\n",
       "      <th>artist</th>\n",
       "      <th>genre</th>\n",
       "      <th>City</th>\n",
       "      <th>time</th>\n",
       "      <th>Day</th>\n",
       "    </tr>\n",
       "  </thead>\n",
       "  <tbody>\n",
       "    <tr>\n",
       "      <th>count</th>\n",
       "      <td>65079</td>\n",
       "      <td>63736</td>\n",
       "      <td>57512</td>\n",
       "      <td>63881</td>\n",
       "      <td>65079</td>\n",
       "      <td>65079</td>\n",
       "      <td>65079</td>\n",
       "    </tr>\n",
       "    <tr>\n",
       "      <th>unique</th>\n",
       "      <td>41748</td>\n",
       "      <td>39666</td>\n",
       "      <td>37806</td>\n",
       "      <td>268</td>\n",
       "      <td>2</td>\n",
       "      <td>20392</td>\n",
       "      <td>3</td>\n",
       "    </tr>\n",
       "    <tr>\n",
       "      <th>top</th>\n",
       "      <td>A8AE9169</td>\n",
       "      <td>Brand</td>\n",
       "      <td>Kartvelli</td>\n",
       "      <td>pop</td>\n",
       "      <td>Springfield</td>\n",
       "      <td>08:14:07</td>\n",
       "      <td>Friday</td>\n",
       "    </tr>\n",
       "    <tr>\n",
       "      <th>freq</th>\n",
       "      <td>76</td>\n",
       "      <td>136</td>\n",
       "      <td>136</td>\n",
       "      <td>8850</td>\n",
       "      <td>45360</td>\n",
       "      <td>14</td>\n",
       "      <td>23149</td>\n",
       "    </tr>\n",
       "  </tbody>\n",
       "</table>\n",
       "</div>"
      ],
      "text/plain": [
       "          userID  Track     artist  genre       City        time     Day\n",
       "count      65079  63736      57512  63881        65079     65079   65079\n",
       "unique     41748  39666      37806    268            2     20392       3\n",
       "top     A8AE9169  Brand  Kartvelli    pop  Springfield  08:14:07  Friday\n",
       "freq          76    136        136   8850        45360        14   23149"
      ]
     },
     "execution_count": 2,
     "metadata": {},
     "output_type": "execute_result"
    }
   ],
   "source": [
    "df = pd.read_csv('/datasets/music_project_en.csv') # leyendo el archivo y almacenándolo en df\n",
    "df.describe()"
   ]
  },
  {
   "cell_type": "markdown",
   "metadata": {
    "id": "rDoOMd3uTqnZ"
   },
   "source": [
    "Imprime las 10 primeras filas de la tabla:"
   ]
  },
  {
   "cell_type": "code",
   "execution_count": 3,
   "metadata": {
    "id": "oWTVX3gW_Zct"
   },
   "outputs": [
    {
     "data": {
      "text/html": [
       "<div>\n",
       "<style scoped>\n",
       "    .dataframe tbody tr th:only-of-type {\n",
       "        vertical-align: middle;\n",
       "    }\n",
       "\n",
       "    .dataframe tbody tr th {\n",
       "        vertical-align: top;\n",
       "    }\n",
       "\n",
       "    .dataframe thead th {\n",
       "        text-align: right;\n",
       "    }\n",
       "</style>\n",
       "<table border=\"1\" class=\"dataframe\">\n",
       "  <thead>\n",
       "    <tr style=\"text-align: right;\">\n",
       "      <th></th>\n",
       "      <th>userID</th>\n",
       "      <th>Track</th>\n",
       "      <th>artist</th>\n",
       "      <th>genre</th>\n",
       "      <th>City</th>\n",
       "      <th>time</th>\n",
       "      <th>Day</th>\n",
       "    </tr>\n",
       "  </thead>\n",
       "  <tbody>\n",
       "    <tr>\n",
       "      <th>0</th>\n",
       "      <td>FFB692EC</td>\n",
       "      <td>Kamigata To Boots</td>\n",
       "      <td>The Mass Missile</td>\n",
       "      <td>rock</td>\n",
       "      <td>Shelbyville</td>\n",
       "      <td>20:28:33</td>\n",
       "      <td>Wednesday</td>\n",
       "    </tr>\n",
       "    <tr>\n",
       "      <th>1</th>\n",
       "      <td>55204538</td>\n",
       "      <td>Delayed Because of Accident</td>\n",
       "      <td>Andreas Rönnberg</td>\n",
       "      <td>rock</td>\n",
       "      <td>Springfield</td>\n",
       "      <td>14:07:09</td>\n",
       "      <td>Friday</td>\n",
       "    </tr>\n",
       "    <tr>\n",
       "      <th>2</th>\n",
       "      <td>20EC38</td>\n",
       "      <td>Funiculì funiculà</td>\n",
       "      <td>Mario Lanza</td>\n",
       "      <td>pop</td>\n",
       "      <td>Shelbyville</td>\n",
       "      <td>20:58:07</td>\n",
       "      <td>Wednesday</td>\n",
       "    </tr>\n",
       "    <tr>\n",
       "      <th>3</th>\n",
       "      <td>A3DD03C9</td>\n",
       "      <td>Dragons in the Sunset</td>\n",
       "      <td>Fire + Ice</td>\n",
       "      <td>folk</td>\n",
       "      <td>Shelbyville</td>\n",
       "      <td>08:37:09</td>\n",
       "      <td>Monday</td>\n",
       "    </tr>\n",
       "    <tr>\n",
       "      <th>4</th>\n",
       "      <td>E2DC1FAE</td>\n",
       "      <td>Soul People</td>\n",
       "      <td>Space Echo</td>\n",
       "      <td>dance</td>\n",
       "      <td>Springfield</td>\n",
       "      <td>08:34:34</td>\n",
       "      <td>Monday</td>\n",
       "    </tr>\n",
       "    <tr>\n",
       "      <th>5</th>\n",
       "      <td>842029A1</td>\n",
       "      <td>Chains</td>\n",
       "      <td>Obladaet</td>\n",
       "      <td>rusrap</td>\n",
       "      <td>Shelbyville</td>\n",
       "      <td>13:09:41</td>\n",
       "      <td>Friday</td>\n",
       "    </tr>\n",
       "    <tr>\n",
       "      <th>6</th>\n",
       "      <td>4CB90AA5</td>\n",
       "      <td>True</td>\n",
       "      <td>Roman Messer</td>\n",
       "      <td>dance</td>\n",
       "      <td>Springfield</td>\n",
       "      <td>13:00:07</td>\n",
       "      <td>Wednesday</td>\n",
       "    </tr>\n",
       "    <tr>\n",
       "      <th>7</th>\n",
       "      <td>F03E1C1F</td>\n",
       "      <td>Feeling This Way</td>\n",
       "      <td>Polina Griffith</td>\n",
       "      <td>dance</td>\n",
       "      <td>Springfield</td>\n",
       "      <td>20:47:49</td>\n",
       "      <td>Wednesday</td>\n",
       "    </tr>\n",
       "    <tr>\n",
       "      <th>8</th>\n",
       "      <td>8FA1D3BE</td>\n",
       "      <td>L’estate</td>\n",
       "      <td>Julia Dalia</td>\n",
       "      <td>ruspop</td>\n",
       "      <td>Springfield</td>\n",
       "      <td>09:17:40</td>\n",
       "      <td>Friday</td>\n",
       "    </tr>\n",
       "    <tr>\n",
       "      <th>9</th>\n",
       "      <td>E772D5C0</td>\n",
       "      <td>Pessimist</td>\n",
       "      <td>NaN</td>\n",
       "      <td>dance</td>\n",
       "      <td>Shelbyville</td>\n",
       "      <td>21:20:49</td>\n",
       "      <td>Wednesday</td>\n",
       "    </tr>\n",
       "  </tbody>\n",
       "</table>\n",
       "</div>"
      ],
      "text/plain": [
       "     userID                        Track            artist   genre  \\\n",
       "0  FFB692EC            Kamigata To Boots  The Mass Missile    rock   \n",
       "1  55204538  Delayed Because of Accident  Andreas Rönnberg    rock   \n",
       "2    20EC38            Funiculì funiculà       Mario Lanza     pop   \n",
       "3  A3DD03C9        Dragons in the Sunset        Fire + Ice    folk   \n",
       "4  E2DC1FAE                  Soul People        Space Echo   dance   \n",
       "5  842029A1                       Chains          Obladaet  rusrap   \n",
       "6  4CB90AA5                         True      Roman Messer   dance   \n",
       "7  F03E1C1F             Feeling This Way   Polina Griffith   dance   \n",
       "8  8FA1D3BE                     L’estate       Julia Dalia  ruspop   \n",
       "9  E772D5C0                    Pessimist               NaN   dance   \n",
       "\n",
       "        City        time        Day  \n",
       "0  Shelbyville  20:28:33  Wednesday  \n",
       "1  Springfield  14:07:09     Friday  \n",
       "2  Shelbyville  20:58:07  Wednesday  \n",
       "3  Shelbyville  08:37:09     Monday  \n",
       "4  Springfield  08:34:34     Monday  \n",
       "5  Shelbyville  13:09:41     Friday  \n",
       "6  Springfield  13:00:07  Wednesday  \n",
       "7  Springfield  20:47:49  Wednesday  \n",
       "8  Springfield  09:17:40     Friday  \n",
       "9  Shelbyville  21:20:49  Wednesday  "
      ]
     },
     "execution_count": 3,
     "metadata": {},
     "output_type": "execute_result"
    }
   ],
   "source": [
    "df.head(10) # obteniendo las 10 primeras filas de la tabla df"
   ]
  },
  {
   "cell_type": "markdown",
   "metadata": {
    "id": "EO73Kwic_Zct"
   },
   "source": [
    "Obtener la información general sobre la tabla con un comando:"
   ]
  },
  {
   "cell_type": "code",
   "execution_count": 4,
   "metadata": {
    "id": "DSf2kIb-_Zct"
   },
   "outputs": [
    {
     "name": "stdout",
     "output_type": "stream",
     "text": [
      "<class 'pandas.core.frame.DataFrame'>\n",
      "RangeIndex: 65079 entries, 0 to 65078\n",
      "Data columns (total 7 columns):\n",
      " #   Column    Non-Null Count  Dtype \n",
      "---  ------    --------------  ----- \n",
      " 0     userID  65079 non-null  object\n",
      " 1   Track     63736 non-null  object\n",
      " 2   artist    57512 non-null  object\n",
      " 3   genre     63881 non-null  object\n",
      " 4     City    65079 non-null  object\n",
      " 5   time      65079 non-null  object\n",
      " 6   Day       65079 non-null  object\n",
      "dtypes: object(7)\n",
      "memory usage: 3.5+ MB\n"
     ]
    }
   ],
   "source": [
    "df.info()# obteniendo información general sobre los datos en df"
   ]
  },
  {
   "cell_type": "markdown",
   "metadata": {},
   "source": [
    "<div class=\"alert alert-block alert-success\">\n",
    "<b>Éxito</b> <a class=\"tocSkip\"></a>\n",
    "\n",
    "Buen inicio! El read con la ruta correcta, el head, y el info!</div>"
   ]
  },
  {
   "cell_type": "markdown",
   "metadata": {
    "id": "TaQ2Iwbr_Zct"
   },
   "source": [
    "La tabla contiene siete columnas. Todas almacenan el mismo tipo de datos: objeto.\n",
    "\n",
    "De acuerdo con la documentación:\n",
    "- `'userID'` — identificador del usuario\n",
    "- `'Track'` — título de la pista\n",
    "- `'artist'` — nombre del artista\n",
    "- `'genre'` — género\n",
    "- `'City'` — ciudad del usuario\n",
    "- `'time'` — el periodo de tiempo exacto en que se reprodujo la pista\n",
    "- `'Day'` — día de la semana\n",
    "\n",
    "Podemos ver tres problemas con el estilo en los nombres de las columnas:\n",
    "1. Algunos nombres están en mayúsculas, otros en minúsculas.\n",
    "2. Hay algunos espacios en algunos nombres.\n",
    "3. La columna Day no nos describe bien a qué se refiere `Detecta el tercer problema tú mismo y descríbelo aquí`.\n",
    "\n",
    "El número de valores de las columnas es diferente. Esto significa que los datos contienen valores ausentes.\n"
   ]
  },
  {
   "cell_type": "markdown",
   "metadata": {
    "id": "MCB6-dXG_Zct"
   },
   "source": [
    "### Conclusiones <a id='data_review_conclusions'></a> \n",
    "\n",
    "Cada fila de la tabla almacena datos de la pista que fue reproducida. Algunas columnas describen la pista en sí: su título, el artista y el género. El resto transmite la información del usuario: la ciudad de la que viene, el tiempo que ha reproducido la pista. \n",
    "\n",
    "Está claro que los datos son suficientes para probar la hipótesis. Sin embargo, hay valores ausentes.\n",
    "\n",
    "Para continuar, necesitamos preprocesar los datos."
   ]
  },
  {
   "cell_type": "markdown",
   "metadata": {
    "id": "3eL__vcwViOi"
   },
   "source": [
    "[Volver a Contenidos](#back)"
   ]
  },
  {
   "cell_type": "markdown",
   "metadata": {
    "id": "SjYF6Ub9_Zct"
   },
   "source": [
    "## Etapa 2. Preprocesamiento de datos <a id='data_preprocessing'></a>\n",
    "Corrige el formato en los encabezados de las columnas y ocúpate de los valores ausentes. Después, comprueba si hay duplicados en los datos."
   ]
  },
  {
   "cell_type": "markdown",
   "metadata": {
    "id": "dIaKXr29_Zct"
   },
   "source": [
    "### Estilo del encabezado <a id='header_style'></a>\n",
    "Imprime el encabezado de la columna:"
   ]
  },
  {
   "cell_type": "code",
   "execution_count": 5,
   "metadata": {
    "id": "oKOTdF_Q_Zct"
   },
   "outputs": [
    {
     "name": "stdout",
     "output_type": "stream",
     "text": [
      "Index(['  userID', 'Track', 'artist', 'genre', '  City  ', 'time', 'Day'], dtype='object')\n"
     ]
    }
   ],
   "source": [
    "print(df.columns)# la lista de los nombres de las columnas en la tabla df"
   ]
  },
  {
   "cell_type": "markdown",
   "metadata": {
    "id": "zj5534cv_Zct"
   },
   "source": [
    "Cambia los nombres de las columnas de acuerdo con las reglas del buen estilo:\n",
    "* Si el nombre tiene varias palabras, utiliza snake_case\n",
    "* Todos los caracteres deben ser minúsculas\n",
    "* Elimina los espacios"
   ]
  },
  {
   "cell_type": "code",
   "execution_count": 6,
   "metadata": {
    "id": "ISlFqs5y_Zct"
   },
   "outputs": [],
   "source": [
    "df = df.rename(\n",
    "    columns={\n",
    "        \n",
    "        '  userID': 'user_id',\n",
    "        'Track': 'track',\n",
    "        'artist':'artist',\n",
    "        'genre': 'genre',\n",
    "        '  City  ': 'city',\n",
    "        'Day': 'day',\n",
    "    }\n",
    ")# renombra las columnas"
   ]
  },
  {
   "cell_type": "markdown",
   "metadata": {},
   "source": [
    "<div class=\"alert alert-block alert-success\">\n",
    "<b>Éxito</b> <a class=\"tocSkip\"></a>\n",
    "\n",
    "Exacto, así es más práctico nombrar tus columnas"
   ]
  },
  {
   "cell_type": "markdown",
   "metadata": {
    "id": "1dqbh00J_Zct"
   },
   "source": [
    "Comprueba el resultado. Imprime los nombres de las columnas una vez más:"
   ]
  },
  {
   "cell_type": "code",
   "execution_count": 7,
   "metadata": {
    "id": "d4NOAmTW_Zct"
   },
   "outputs": [
    {
     "name": "stdout",
     "output_type": "stream",
     "text": [
      "Index(['user_id', 'track', 'artist', 'genre', 'city', 'time', 'day'], dtype='object')\n"
     ]
    }
   ],
   "source": [
    "print(df.columns)# comprobando el resultado: la lista de los nombres de las columnas"
   ]
  },
  {
   "cell_type": "markdown",
   "metadata": {
    "id": "xYJk6ksJVpOl"
   },
   "source": [
    "[Volver a Contenidos](#back)"
   ]
  },
  {
   "cell_type": "markdown",
   "metadata": {
    "id": "5ISfbcfY_Zct"
   },
   "source": [
    "### Valores ausentes <a id='missing_values'></a>\n",
    "Primero encuentra el número de valores ausentes en la tabla. Para ello, utiliza dos métodos pandas:"
   ]
  },
  {
   "cell_type": "code",
   "execution_count": 8,
   "metadata": {
    "id": "RskX29qr_Zct"
   },
   "outputs": [
    {
     "name": "stdout",
     "output_type": "stream",
     "text": [
      "user_id       0\n",
      "track      1343\n",
      "artist     7567\n",
      "genre      1198\n",
      "city          0\n",
      "time          0\n",
      "day           0\n",
      "dtype: int64\n"
     ]
    }
   ],
   "source": [
    "print(df.isna().sum()) # calculando valores ausentes"
   ]
  },
  {
   "cell_type": "markdown",
   "metadata": {
    "id": "fSv2laPA_Zct"
   },
   "source": [
    "Reemplazar los valores ausentes en `'track'`, `'artist'`, y `'genre'` con la string `'unknown'`. Para ello, crea la lista `columns_to_replace`, recórrela con un bucle `for` y reemplaza los valores ausentes en cada una de las columnas:"
   ]
  },
  {
   "cell_type": "code",
   "execution_count": 9,
   "metadata": {
    "id": "KplB5qWs_Zct",
    "scrolled": true
   },
   "outputs": [],
   "source": [
    "columns_to_replace = ['track','artist','genre'] # recorriendo los nombres de las columnas y reemplazando los valores ausentes con 'unknown'\n",
    "\n",
    "for column in columns_to_replace:\n",
    "    df[column]=df[column].fillna('unknown')"
   ]
  },
  {
   "cell_type": "markdown",
   "metadata": {},
   "source": [
    "<div class=\"alert alert-block alert-success\">\n",
    "<b>Éxito</b> <a class=\"tocSkip\"></a>\n",
    "\n",
    "Excelente, no olvides que los bucles for son una poderosa herramienta</div>"
   ]
  },
  {
   "cell_type": "markdown",
   "metadata": {
    "id": "Ilsm-MZo_Zct"
   },
   "source": [
    "Asegúrate de que la tabla no contiene más valores ausentes. Cuenta de nuevo los valores ausentes."
   ]
  },
  {
   "cell_type": "code",
   "execution_count": 10,
   "metadata": {
    "id": "Tq4nYRX4_Zct"
   },
   "outputs": [
    {
     "name": "stdout",
     "output_type": "stream",
     "text": [
      "user_id    0\n",
      "track      0\n",
      "artist     0\n",
      "genre      0\n",
      "city       0\n",
      "time       0\n",
      "day        0\n",
      "dtype: int64\n"
     ]
    }
   ],
   "source": [
    "print(df.isna().sum())# contando valores ausentes"
   ]
  },
  {
   "cell_type": "markdown",
   "metadata": {
    "id": "74ZIBmq9VrsK"
   },
   "source": [
    "[Volver a Contenidos](#back)"
   ]
  },
  {
   "cell_type": "markdown",
   "metadata": {
    "id": "qubhgnlO_Zct"
   },
   "source": [
    "No todos los valores ausentes afectan a la investigación. Por ejemplo, los valores ausentes en la pista y artista no son cruciales. Simplemente puedes reemplazarlos por marcadores claros.\n",
    "\n",
    "Pero los valores ausentes en `'genre'` pueden afectar la comparación entre las preferencias musicales de Springfield y Shelbyville. En la vida real, sería útil saber las razones por las cuales hay datos ausentes e intentar recuperarlos. Pero no tenemos esa oportunidad en este proyecto. Así que tendrás que:\n",
    "* Rellenar esos valores ausentes con marcadores\n",
    "* Evaluar cuánto podrían afectar los valores ausentes a tus cómputos."
   ]
  },
  {
   "cell_type": "markdown",
   "metadata": {
    "id": "BWKRtBJ3_Zct"
   },
   "source": [
    "### Duplicados <a id='duplicates'></a>\n",
    "Encuentra el número de duplicados obvios en la tabla utilizando un comando:"
   ]
  },
  {
   "cell_type": "code",
   "execution_count": 11,
   "metadata": {
    "id": "36eES_S0_Zct"
   },
   "outputs": [
    {
     "name": "stdout",
     "output_type": "stream",
     "text": [
      "3826\n"
     ]
    }
   ],
   "source": [
    "print(df.duplicated().sum())# contando duplicado obvios"
   ]
  },
  {
   "cell_type": "markdown",
   "metadata": {
    "id": "Ot25h6XR_Zct"
   },
   "source": [
    "Llama al método `pandas` para deshacerte de los duplicados obvios:"
   ]
  },
  {
   "cell_type": "code",
   "execution_count": 12,
   "metadata": {
    "id": "exFHq6tt_Zct"
   },
   "outputs": [],
   "source": [
    "df = df.drop_duplicates()# eliminando duplicados obvios"
   ]
  },
  {
   "cell_type": "markdown",
   "metadata": {
    "id": "Im2YwBEG_Zct"
   },
   "source": [
    "Cuenta los duplicados obvios una vez más para asegurarte de que todos han sido eliminados:"
   ]
  },
  {
   "cell_type": "code",
   "execution_count": 13,
   "metadata": {
    "id": "-8PuNWQ0_Zct"
   },
   "outputs": [
    {
     "name": "stdout",
     "output_type": "stream",
     "text": [
      "0\n"
     ]
    }
   ],
   "source": [
    "print(df.duplicated().sum())# comprobando duplicados"
   ]
  },
  {
   "cell_type": "markdown",
   "metadata": {
    "id": "QlFBsxAr_Zct"
   },
   "source": [
    "Ahora deshazte de los duplicados implícitos en la columna genre. Por ejemplo, el nombre de un género se puede escribir de varias formas. Dichos errores también pueden afectar a resultado."
   ]
  },
  {
   "cell_type": "markdown",
   "metadata": {
    "id": "eSjWwsOh_Zct"
   },
   "source": [
    "Imprime una lista de nombres únicos de géneros, ordenados en orden alfabético. Cómo se hace:\n",
    "* Recupera la deseada columna DataFrame \n",
    "* Aplícale un método de orden\n",
    "* Para la columna ordenada, llama al método que te devolverá todos los valores de columna únicos"
   ]
  },
  {
   "cell_type": "code",
   "execution_count": 14,
   "metadata": {
    "id": "JIUcqzZN_Zct"
   },
   "outputs": [
    {
     "name": "stdout",
     "output_type": "stream",
     "text": [
      "['acid' 'acoustic' 'action' 'adult' 'africa' 'afrikaans' 'alternative'\n",
      " 'ambient' 'americana' 'animated' 'anime' 'arabesk' 'arabic' 'arena'\n",
      " 'argentinetango' 'art' 'audiobook' 'avantgarde' 'axé' 'baile' 'balkan'\n",
      " 'beats' 'bigroom' 'black' 'bluegrass' 'blues' 'bollywood' 'bossa'\n",
      " 'brazilian' 'breakbeat' 'breaks' 'broadway' 'cantautori' 'cantopop'\n",
      " 'canzone' 'caribbean' 'caucasian' 'celtic' 'chamber' 'children' 'chill'\n",
      " 'chinese' 'choral' 'christian' 'christmas' 'classical' 'classicmetal'\n",
      " 'club' 'colombian' 'comedy' 'conjazz' 'contemporary' 'country' 'cuban'\n",
      " 'dance' 'dancehall' 'dancepop' 'dark' 'death' 'deep' 'deutschrock'\n",
      " 'deutschspr' 'dirty' 'disco' 'dnb' 'documentary' 'downbeat' 'downtempo'\n",
      " 'drum' 'dub' 'dubstep' 'eastern' 'easy' 'electronic' 'electropop' 'emo'\n",
      " 'entehno' 'epicmetal' 'estrada' 'ethnic' 'eurofolk' 'european'\n",
      " 'experimental' 'extrememetal' 'fado' 'film' 'fitness' 'flamenco' 'folk'\n",
      " 'folklore' 'folkmetal' 'folkrock' 'folktronica' 'forró' 'frankreich'\n",
      " 'französisch' 'french' 'funk' 'future' 'gangsta' 'garage' 'german'\n",
      " 'ghazal' 'gitarre' 'glitch' 'gospel' 'gothic' 'grime' 'grunge' 'gypsy'\n",
      " 'handsup' \"hard'n'heavy\" 'hardcore' 'hardstyle' 'hardtechno' 'hip'\n",
      " 'hip-hop' 'hiphop' 'historisch' 'holiday' 'hop' 'horror' 'house' 'idm'\n",
      " 'independent' 'indian' 'indie' 'indipop' 'industrial' 'inspirational'\n",
      " 'instrumental' 'international' 'irish' 'jam' 'japanese' 'jazz' 'jewish'\n",
      " 'jpop' 'jungle' 'k-pop' 'karadeniz' 'karaoke' 'kayokyoku' 'korean'\n",
      " 'laiko' 'latin' 'latino' 'leftfield' 'local' 'lounge' 'loungeelectronic'\n",
      " 'lovers' 'malaysian' 'mandopop' 'marschmusik' 'meditative'\n",
      " 'mediterranean' 'melodic' 'metal' 'metalcore' 'mexican' 'middle'\n",
      " 'minimal' 'miscellaneous' 'modern' 'mood' 'mpb' 'muslim' 'native'\n",
      " 'neoklassik' 'neue' 'new' 'newage' 'newwave' 'nu' 'nujazz' 'numetal'\n",
      " 'oceania' 'old' 'opera' 'orchestral' 'other' 'piano' 'pop'\n",
      " 'popelectronic' 'popeurodance' 'post' 'posthardcore' 'postrock' 'power'\n",
      " 'progmetal' 'progressive' 'psychedelic' 'punjabi' 'punk' 'quebecois'\n",
      " 'ragga' 'ram' 'rancheras' 'rap' 'rave' 'reggae' 'reggaeton' 'regional'\n",
      " 'relax' 'religious' 'retro' 'rhythm' 'rnb' 'rnr' 'rock' 'rockabilly'\n",
      " 'romance' 'roots' 'ruspop' 'rusrap' 'rusrock' 'salsa' 'samba' 'schlager'\n",
      " 'self' 'sertanejo' 'shoegazing' 'showtunes' 'singer' 'ska' 'slow'\n",
      " 'smooth' 'soul' 'soulful' 'sound' 'soundtrack' 'southern' 'specialty'\n",
      " 'speech' 'spiritual' 'sport' 'stonerrock' 'surf' 'swing' 'synthpop'\n",
      " 'sängerportrait' 'tango' 'tanzorchester' 'taraftar' 'tech' 'techno'\n",
      " 'thrash' 'top' 'traditional' 'tradjazz' 'trance' 'tribal' 'trip'\n",
      " 'triphop' 'tropical' 'türk' 'türkçe' 'unknown' 'urban' 'uzbek' 'variété'\n",
      " 'vi' 'videogame' 'vocal' 'western' 'world' 'worldbeat' 'ïîï']\n"
     ]
    }
   ],
   "source": [
    " # inspeccionando los nombres de géneros únicos\n",
    "columna_genero = df['genre'].sort_values().unique()  \n",
    "\n",
    "#columna_genero = df['genre'] #Recupera la deseada columna DataFrame\n",
    "#columna_genero= df['genre'].sort_values() #Aplícale un método de orden\n",
    "#columna_genero = df['genre'].unique() #Para la columna ordenada, llama al método que te devolverá todos los valores de columna únicos\n",
    "\n",
    "print(columna_genero)\n",
    "\n",
    "\n",
    "\n"
   ]
  },
  {
   "cell_type": "markdown",
   "metadata": {
    "id": "qej-Qmuo_Zct"
   },
   "source": [
    "Busca en la lista para encontrar duplicados implícitos del género `hiphop`. Estos pueden ser nombres escritos incorrectamente o nombres alternativos para el mismo género.\n",
    "\n",
    "Verás los siguientes duplicados implícitos:\n",
    "* `hip`\n",
    "* `hop`\n",
    "* `hip-hop`\n",
    "\n",
    "Para deshacerte de ellos, declara la función `replace_wrong_genres()` con dos parámetros: \n",
    "* `wrong_genres=` — la lista de duplicados\n",
    "* `correct_genre=` — la string con el valor correcto\n",
    "\n",
    "La función debería corregir los nombres en la columna `'genre'` de la tabla `df`, es decir, remplaza cada valor de la lista `wrong_genres` con el valor en `correct_genre`."
   ]
  },
  {
   "cell_type": "code",
   "execution_count": 15,
   "metadata": {
    "id": "ErNDkmns_Zct"
   },
   "outputs": [],
   "source": [
    "# función para reemplazar duplicados implícitos\n",
    "    \n",
    "def replace_wrong_genres(wrong_genres, correct_genres): # pasamos una lista de valores incorrectos y una string con el valor correcto en la entrada de la función\n",
    "    for wrong_genre in wrong_genres: # un bucle sobre nombres mal escritos\n",
    "        df['genre'] = df['genre'].replace(wrong_genres, correct_genres) # llamamos a replace() por cada nombre incorrecto\n",
    "\n",
    "duplicates = ['hip', 'hop', 'hip-hop'] # una lista de nombres mal escritos\n",
    "name = 'hiphop' # el nombre correcto\n"
   ]
  },
  {
   "cell_type": "markdown",
   "metadata": {
    "id": "aDoBJxbA_Zct"
   },
   "source": [
    "Llama a `replace_wrong_genres()` y pásale argumentos para que retire los duplicados implícitos (`hip`, `hop` y `hip-hop`) y los reemplace por `hiphop`:"
   ]
  },
  {
   "cell_type": "code",
   "execution_count": 16,
   "metadata": {
    "id": "YN5i2hpmSo09"
   },
   "outputs": [
    {
     "name": "stdout",
     "output_type": "stream",
     "text": [
      "        user_id                              track            artist  \\\n",
      "0      FFB692EC                  Kamigata To Boots  The Mass Missile   \n",
      "1      55204538        Delayed Because of Accident  Andreas Rönnberg   \n",
      "2        20EC38                  Funiculì funiculà       Mario Lanza   \n",
      "3      A3DD03C9              Dragons in the Sunset        Fire + Ice   \n",
      "4      E2DC1FAE                        Soul People        Space Echo   \n",
      "...         ...                                ...               ...   \n",
      "65074  729CBB09                            My Name            McLean   \n",
      "65075  D08D4A55  Maybe One Day (feat. Black Spade)       Blu & Exile   \n",
      "65076  C5E3A0D5                          Jalopiina           unknown   \n",
      "65077  321D0506                      Freight Train     Chas McDevitt   \n",
      "65078  3A64EF84          Tell Me Sweet Little Lies      Monica Lopez   \n",
      "\n",
      "            genre         city      time        day  \n",
      "0            rock  Shelbyville  20:28:33  Wednesday  \n",
      "1            rock  Springfield  14:07:09     Friday  \n",
      "2             pop  Shelbyville  20:58:07  Wednesday  \n",
      "3            folk  Shelbyville  08:37:09     Monday  \n",
      "4           dance  Springfield  08:34:34     Monday  \n",
      "...           ...          ...       ...        ...  \n",
      "65074         rnb  Springfield  13:32:28  Wednesday  \n",
      "65075      hiphop  Shelbyville  10:00:00     Monday  \n",
      "65076  industrial  Springfield  20:09:26     Friday  \n",
      "65077        rock  Springfield  21:43:59     Friday  \n",
      "65078     country  Springfield  21:59:46     Friday  \n",
      "\n",
      "[61253 rows x 7 columns]\n"
     ]
    }
   ],
   "source": [
    "# eliminando duplicados implícitos\n",
    "\n",
    "replace_wrong_genres(duplicates, name) # llamamos a la función, replace() se llamará dos veces\n",
    "print(df) # el nuevo DataFrame sin duplicados "
   ]
  },
  {
   "cell_type": "markdown",
   "metadata": {
    "id": "zQKF16_RG15m"
   },
   "source": [
    "Asegúrate que los nombres duplicados han sido eliminados. Imprime la lista de valores únicos de la columna `'genre'`:"
   ]
  },
  {
   "cell_type": "code",
   "execution_count": 17,
   "metadata": {
    "id": "wvixALnFG15m"
   },
   "outputs": [
    {
     "name": "stdout",
     "output_type": "stream",
     "text": [
      "['acid' 'acoustic' 'action' 'adult' 'africa' 'afrikaans' 'alternative'\n",
      " 'ambient' 'americana' 'animated' 'anime' 'arabesk' 'arabic' 'arena'\n",
      " 'argentinetango' 'art' 'audiobook' 'avantgarde' 'axé' 'baile' 'balkan'\n",
      " 'beats' 'bigroom' 'black' 'bluegrass' 'blues' 'bollywood' 'bossa'\n",
      " 'brazilian' 'breakbeat' 'breaks' 'broadway' 'cantautori' 'cantopop'\n",
      " 'canzone' 'caribbean' 'caucasian' 'celtic' 'chamber' 'children' 'chill'\n",
      " 'chinese' 'choral' 'christian' 'christmas' 'classical' 'classicmetal'\n",
      " 'club' 'colombian' 'comedy' 'conjazz' 'contemporary' 'country' 'cuban'\n",
      " 'dance' 'dancehall' 'dancepop' 'dark' 'death' 'deep' 'deutschrock'\n",
      " 'deutschspr' 'dirty' 'disco' 'dnb' 'documentary' 'downbeat' 'downtempo'\n",
      " 'drum' 'dub' 'dubstep' 'eastern' 'easy' 'electronic' 'electropop' 'emo'\n",
      " 'entehno' 'epicmetal' 'estrada' 'ethnic' 'eurofolk' 'european'\n",
      " 'experimental' 'extrememetal' 'fado' 'film' 'fitness' 'flamenco' 'folk'\n",
      " 'folklore' 'folkmetal' 'folkrock' 'folktronica' 'forró' 'frankreich'\n",
      " 'französisch' 'french' 'funk' 'future' 'gangsta' 'garage' 'german'\n",
      " 'ghazal' 'gitarre' 'glitch' 'gospel' 'gothic' 'grime' 'grunge' 'gypsy'\n",
      " 'handsup' \"hard'n'heavy\" 'hardcore' 'hardstyle' 'hardtechno' 'hiphop'\n",
      " 'historisch' 'holiday' 'horror' 'house' 'idm' 'independent' 'indian'\n",
      " 'indie' 'indipop' 'industrial' 'inspirational' 'instrumental'\n",
      " 'international' 'irish' 'jam' 'japanese' 'jazz' 'jewish' 'jpop' 'jungle'\n",
      " 'k-pop' 'karadeniz' 'karaoke' 'kayokyoku' 'korean' 'laiko' 'latin'\n",
      " 'latino' 'leftfield' 'local' 'lounge' 'loungeelectronic' 'lovers'\n",
      " 'malaysian' 'mandopop' 'marschmusik' 'meditative' 'mediterranean'\n",
      " 'melodic' 'metal' 'metalcore' 'mexican' 'middle' 'minimal'\n",
      " 'miscellaneous' 'modern' 'mood' 'mpb' 'muslim' 'native' 'neoklassik'\n",
      " 'neue' 'new' 'newage' 'newwave' 'nu' 'nujazz' 'numetal' 'oceania' 'old'\n",
      " 'opera' 'orchestral' 'other' 'piano' 'pop' 'popelectronic' 'popeurodance'\n",
      " 'post' 'posthardcore' 'postrock' 'power' 'progmetal' 'progressive'\n",
      " 'psychedelic' 'punjabi' 'punk' 'quebecois' 'ragga' 'ram' 'rancheras'\n",
      " 'rap' 'rave' 'reggae' 'reggaeton' 'regional' 'relax' 'religious' 'retro'\n",
      " 'rhythm' 'rnb' 'rnr' 'rock' 'rockabilly' 'romance' 'roots' 'ruspop'\n",
      " 'rusrap' 'rusrock' 'salsa' 'samba' 'schlager' 'self' 'sertanejo'\n",
      " 'shoegazing' 'showtunes' 'singer' 'ska' 'slow' 'smooth' 'soul' 'soulful'\n",
      " 'sound' 'soundtrack' 'southern' 'specialty' 'speech' 'spiritual' 'sport'\n",
      " 'stonerrock' 'surf' 'swing' 'synthpop' 'sängerportrait' 'tango'\n",
      " 'tanzorchester' 'taraftar' 'tech' 'techno' 'thrash' 'top' 'traditional'\n",
      " 'tradjazz' 'trance' 'tribal' 'trip' 'triphop' 'tropical' 'türk' 'türkçe'\n",
      " 'unknown' 'urban' 'uzbek' 'variété' 'vi' 'videogame' 'vocal' 'western'\n",
      " 'world' 'worldbeat' 'ïîï']\n"
     ]
    }
   ],
   "source": [
    "# revisando en busca de duplicados implícitos\n",
    "\n",
    "columna_genero = df['genre'].sort_values().unique()\n",
    "\n",
    "print(columna_genero)"
   ]
  },
  {
   "cell_type": "markdown",
   "metadata": {},
   "source": [
    "<div class=\"alert alert-block alert-success\">\n",
    "<b>Éxito</b> <a class=\"tocSkip\"></a>\n",
    "\n",
    "Genial, así se remplazan duplicados implícitos.</div>"
   ]
  },
  {
   "cell_type": "markdown",
   "metadata": {
    "id": "ALgNbvF3VtPA"
   },
   "source": [
    "[Volver a Contenidos](#back)"
   ]
  },
  {
   "cell_type": "markdown",
   "metadata": {
    "id": "jz6a9-7HQUDd"
   },
   "source": [
    "### Conclusiones <a id='data_preprocessing_conclusions'></a>\n",
    "Detectamos tres problemas con los datos:\n",
    "\n",
    "- Estilos de encabezados incorrectos\n",
    "- Valores ausentes\n",
    "- Duplicados obvios e implícitos\n",
    "\n",
    "Los encabezados han sido eliminados para conseguir que el procesamiento de la tabla sea más sencillo.\n",
    "\n",
    "Todos los valores ausentes han sido reemplazados por `'unknown'`. Pero todavía tenemos que ver si los valores ausentes en `'genre'` afectan a nuestros cálculos.\n",
    "\n",
    "La ausencia de duplicados hará que los resultados sean mas precisos y fáciles de entender.\n",
    "\n",
    "Ahora ya podemos continuar probando las hipótesis. "
   ]
  },
  {
   "cell_type": "markdown",
   "metadata": {
    "id": "eK1es74rVujj"
   },
   "source": [
    "[Volver a Contenidos](#back)"
   ]
  },
  {
   "cell_type": "markdown",
   "metadata": {
    "id": "WttZHXH0SqKk"
   },
   "source": [
    "## Etapa 3. Prueba de hipótesis <a id='hypotheses'></a>"
   ]
  },
  {
   "cell_type": "markdown",
   "metadata": {
    "id": "Im936VVi_Zcu"
   },
   "source": [
    "### Hipótesis 1: comparar el comportamiento del usuario en las dos ciudades <a id='activity'></a>"
   ]
  },
  {
   "cell_type": "markdown",
   "metadata": {
    "id": "nwt_MuaL_Zcu"
   },
   "source": [
    "De acuerdo con la primera hipótesis, los usuarios de Springfield y Shelbyville escuchan música de forma distinta. Comprueba esto utilizando los datos de tres días de la semana: lunes, miércoles y viernes.\n",
    "\n",
    "* Divide a los usuarios en grupos por ciudad.\n",
    "* Compara cuántas pistas reprodujo cada grupo el lunes, el miércoles y el viernes.\n"
   ]
  },
  {
   "cell_type": "markdown",
   "metadata": {
    "id": "8Dw_YMmT_Zcu"
   },
   "source": [
    "Por el bien del ejercicio, realiza cada cálculo de forma separada. \n",
    "\n",
    "Evalúa la actividad del usuario en cada ciudad. Agrupa los datos por ciudad y encuentra el número de canciones reproducidas en cada grupo.\n",
    "\n"
   ]
  },
  {
   "cell_type": "code",
   "execution_count": 30,
   "metadata": {
    "id": "0_Qs96oh_Zcu"
   },
   "outputs": [
    {
     "name": "stdout",
     "output_type": "stream",
     "text": [
      "city\n",
      "Shelbyville    18512\n",
      "Springfield    42741\n",
      "Name: user_id, dtype: int64\n"
     ]
    }
   ],
   "source": [
    "# contando las pistas reproducidas en cada ciudad\n",
    "\n",
    "print(df.groupby('city')['user_id'].count())"
   ]
  },
  {
   "cell_type": "markdown",
   "metadata": {},
   "source": [
    "<div class=\"alert alert-block alert-warning\">\n",
    "<b>Atención</b> <a class=\"tocSkip\"></a>\n",
    "\n",
    "Para no tener muchas columnas con la misma información, es mejor que especifiques una columna (la que sea) en tu groupby sobre la que contarás, es decir, harías esto, por ejemplo:\n",
    "\n",
    "`df.groupby('city')['user_id'].count()`\n",
    "    \n",
    "Pruébalo ;)\n",
    "</div>"
   ]
  },
  {
   "cell_type": "markdown",
   "metadata": {
    "id": "dzli3w8o_Zcu"
   },
   "source": [
    "Springfield ha reproducido más pistas que Shelbyville. Pero eso no implica que los ciudadanos de Springfield escuchen música más a menudo. Esta ciudad es simplemente más grande y hay más usuarios.\n",
    "\n",
    "Ahora agrupa los datos por día de la semana y encuentra el número de pistas reproducidas el lunes, miércoles y viernes.\n"
   ]
  },
  {
   "cell_type": "code",
   "execution_count": 19,
   "metadata": {
    "id": "uZMKjiJz_Zcu"
   },
   "outputs": [
    {
     "name": "stdout",
     "output_type": "stream",
     "text": [
      "           user_id  track  artist  genre   city   time\n",
      "day                                                   \n",
      "Friday       21840  21840   21840  21840  21840  21840\n",
      "Monday       21354  21354   21354  21354  21354  21354\n",
      "Wednesday    18059  18059   18059  18059  18059  18059\n"
     ]
    }
   ],
   "source": [
    "# calculando las pistas reproducidas en cada uno de los tres días\n",
    "pistas_dias = df.groupby('day').count()\n",
    "print(pistas_dias)"
   ]
  },
  {
   "cell_type": "markdown",
   "metadata": {
    "id": "cC2tNrlL_Zcu"
   },
   "source": [
    "El miércoles fue el día más silencioso de todos. Pero si consideramos las dos ciudades por separado podríamos llegar a una conclusión diferente."
   ]
  },
  {
   "cell_type": "markdown",
   "metadata": {
    "id": "POzs8bGa_Zcu"
   },
   "source": [
    "Ya has visto cómo funciona el agrupar por ciudad o día. Ahora escribe la función que agrupará ambos.\n",
    "\n",
    "Crea la función `number_tracks()` para calcular el número de canciones reproducidas en un determinado día y ciudad. Requerirá dos parámetros:\n",
    "* día de la semana\n",
    "* nombre de la ciudad\n",
    "\n",
    "En la función, utiliza una variable para almacenar las filas de la tabla original, donde:\n",
    "  * el valor de la columna `'day'` es igual al parámetro de día\n",
    "  * el valor de la columna `'city'` es igual al parámetro de ciudad\n",
    "\n",
    "Aplica un filtrado consecutivo con indexación lógica.\n",
    "\n",
    "Después, calcula los valores de la columna `'user_id'` en la tabla resultante. Almacena el resultado en la nueva variable. Recupera esta variable de la función."
   ]
  },
  {
   "cell_type": "code",
   "execution_count": 20,
   "metadata": {
    "id": "Nz3GdQB1_Zcu"
   },
   "outputs": [],
   "source": [
    " # <creando la función number_tracks()>\n",
    "def number_tracks(day,city) :# declararemos la función con dos parámetros: day=, city=.   # deja que la variable track_list almacene las filas df en las que\n",
    "# el valor en la columna 'day' es igual al parámetro day= y, al mismo tiempo, \n",
    "# el valor de la columna 'city' es igual al parámetro city= (aplica el filtrado consecutivo con indexación lógica).\n",
    "    track_list = df[df['day']== day]  \n",
    "    track_list = track_list[track_list['city']==city] \n",
    "# deja que la variable track_list_count almacene el número de valores de la columna 'user_id' en track_list\n",
    "# (encontrado con el método count()).  \n",
    "    track_list_count = track_list['user_id'].count()\n",
    "# permite que la función devuelva un número: el valor de track_list_count.  \n",
    "    return track_list_count\n",
    "\n",
    "\n",
    "# la función cuenta las pistas reproducidas en un cierto día y ciudad.\n",
    "# primero recupera las filas del día deseado de la tabla,\n",
    "# después filtra las filas de la ciudad deseada del resultado,\n",
    "# entonces, encuentra el número de valores de 'user_id' en la tabla filtrada,\n",
    "# y devuelve ese número.\n",
    "# para ver lo que devuelve, envuelve la llamada de la función en print()."
   ]
  },
  {
   "cell_type": "markdown",
   "metadata": {
    "id": "ytf7xFrFJQ2r"
   },
   "source": [
    "Llama a `number_tracks()` seis veces, cambiando los valores de los parámetros, para que recuperes los datos de ambas ciudades para cada uno de los tres días."
   ]
  },
  {
   "cell_type": "code",
   "execution_count": 21,
   "metadata": {
    "id": "rJcRATNQ_Zcu"
   },
   "outputs": [
    {
     "data": {
      "text/plain": [
       "15740"
      ]
     },
     "execution_count": 21,
     "metadata": {},
     "output_type": "execute_result"
    }
   ],
   "source": [
    "# el número de canciones reproducidas en Springfield el lunes\n",
    "number_tracks('Monday','Springfield')"
   ]
  },
  {
   "cell_type": "code",
   "execution_count": 22,
   "metadata": {
    "id": "hq_ncZ5T_Zcu"
   },
   "outputs": [
    {
     "data": {
      "text/plain": [
       "5614"
      ]
     },
     "execution_count": 22,
     "metadata": {},
     "output_type": "execute_result"
    }
   ],
   "source": [
    "# el número de canciones reproducidas en Shelbyville el lunes\n",
    "number_tracks('Monday','Shelbyville')"
   ]
  },
  {
   "cell_type": "code",
   "execution_count": 23,
   "metadata": {
    "id": "_NTy2VPU_Zcu"
   },
   "outputs": [
    {
     "data": {
      "text/plain": [
       "11056"
      ]
     },
     "execution_count": 23,
     "metadata": {},
     "output_type": "execute_result"
    }
   ],
   "source": [
    "# el número de canciones reproducidas en Springfield el miércoles\n",
    "number_tracks('Wednesday','Springfield')"
   ]
  },
  {
   "cell_type": "code",
   "execution_count": 24,
   "metadata": {
    "id": "j2y3TAwo_Zcu"
   },
   "outputs": [
    {
     "data": {
      "text/plain": [
       "7003"
      ]
     },
     "execution_count": 24,
     "metadata": {},
     "output_type": "execute_result"
    }
   ],
   "source": [
    "# el número de canciones reproducidas en Shelbyville el miércoles\n",
    "number_tracks('Wednesday','Shelbyville')"
   ]
  },
  {
   "cell_type": "code",
   "execution_count": 25,
   "metadata": {
    "id": "vYDw5u_K_Zcu"
   },
   "outputs": [
    {
     "data": {
      "text/plain": [
       "15945"
      ]
     },
     "execution_count": 25,
     "metadata": {},
     "output_type": "execute_result"
    }
   ],
   "source": [
    "# el número de canciones reproducidas en Springfield el viernes\n",
    "number_tracks('Friday','Springfield')"
   ]
  },
  {
   "cell_type": "code",
   "execution_count": 26,
   "metadata": {
    "id": "8_yzFtW3_Zcu"
   },
   "outputs": [
    {
     "data": {
      "text/plain": [
       "5895"
      ]
     },
     "execution_count": 26,
     "metadata": {},
     "output_type": "execute_result"
    }
   ],
   "source": [
    "# el número de canciones reproducidas en Shelbyville el viernes\n",
    "number_tracks('Friday','Shelbyville')"
   ]
  },
  {
   "cell_type": "markdown",
   "metadata": {
    "id": "7QXffbO-_Zcu"
   },
   "source": [
    "Utiliza `pd.DataFrame` para crear una tabla, donde\n",
    "* Los nombres de las columnas son: `['city', 'monday', 'wednesday', 'friday']`\n",
    "* Los datos son los resultados que conseguiste de `number_tracks()`"
   ]
  },
  {
   "cell_type": "code",
   "execution_count": 27,
   "metadata": {},
   "outputs": [],
   "source": [
    "tracks = [\n",
    "    ['Springfield',15740,11056,15945],\n",
    "    ['Shelbyville',5614,7003,5895]\n",
    "]\n",
    "\n",
    "columns_tracks = ['city', 'monday', 'wednesday', 'friday']\n",
    "\n",
    "tabla_tracks = pd.DataFrame(data=tracks, columns=columns_tracks)\n",
    "\n",
    "\n"
   ]
  },
  {
   "cell_type": "code",
   "execution_count": 29,
   "metadata": {
    "id": "APAcLpOr_Zcu"
   },
   "outputs": [
    {
     "data": {
      "text/html": [
       "<div>\n",
       "<style scoped>\n",
       "    .dataframe tbody tr th:only-of-type {\n",
       "        vertical-align: middle;\n",
       "    }\n",
       "\n",
       "    .dataframe tbody tr th {\n",
       "        vertical-align: top;\n",
       "    }\n",
       "\n",
       "    .dataframe thead th {\n",
       "        text-align: right;\n",
       "    }\n",
       "</style>\n",
       "<table border=\"1\" class=\"dataframe\">\n",
       "  <thead>\n",
       "    <tr style=\"text-align: right;\">\n",
       "      <th></th>\n",
       "      <th>city</th>\n",
       "      <th>monday</th>\n",
       "      <th>wednesday</th>\n",
       "      <th>friday</th>\n",
       "    </tr>\n",
       "  </thead>\n",
       "  <tbody>\n",
       "    <tr>\n",
       "      <th>0</th>\n",
       "      <td>Springfield</td>\n",
       "      <td>15740</td>\n",
       "      <td>11056</td>\n",
       "      <td>15945</td>\n",
       "    </tr>\n",
       "    <tr>\n",
       "      <th>1</th>\n",
       "      <td>Shelbyville</td>\n",
       "      <td>5614</td>\n",
       "      <td>7003</td>\n",
       "      <td>5895</td>\n",
       "    </tr>\n",
       "  </tbody>\n",
       "</table>\n",
       "</div>"
      ],
      "text/plain": [
       "          city  monday  wednesday  friday\n",
       "0  Springfield   15740      11056   15945\n",
       "1  Shelbyville    5614       7003    5895"
      ]
     },
     "execution_count": 29,
     "metadata": {},
     "output_type": "execute_result"
    }
   ],
   "source": [
    "tabla_tracks# tabla con los resultados"
   ]
  },
  {
   "cell_type": "markdown",
   "metadata": {},
   "source": [
    "<div class=\"alert alert-block alert-warning\">\n",
    "<b>Atención</b> <a class=\"tocSkip\"></a>\n",
    "\n",
    "Si sólo escribes tabla_tracks, sin el print(), tendrás una visualización más bonita de tu tabla. Fuera de eso, todo bien ;)</div>"
   ]
  },
  {
   "cell_type": "markdown",
   "metadata": {
    "id": "-EgPIHYu_Zcu"
   },
   "source": [
    "**Conclusiones**\n",
    "\n",
    "Los datos revelan las diferencias en el comportamiento de los usuarios:\n",
    "\n",
    "- En Springfield, el número de canciones reproducidas alcanzan el punto máximo los lunes y viernes mientras que los miércoles hay un descenso de la actividad.\n",
    "- En Shelbyville, al contario, los usuarios escuchan más música los miércoles. La actividad de los usuarios los lunes y viernes es menor.\n",
    "\n",
    "Así que la primera hipótesis parece ser correcta."
   ]
  },
  {
   "cell_type": "markdown",
   "metadata": {
    "id": "p7nFQajCVw5B"
   },
   "source": [
    "[Volver a Contenidos](#back)"
   ]
  },
  {
   "cell_type": "markdown",
   "metadata": {
    "id": "atZAxtq4_Zcu"
   },
   "source": [
    "### Hipótesis 2: música al principio y al final de la semana <a id='week'></a>"
   ]
  },
  {
   "cell_type": "markdown",
   "metadata": {
    "id": "eXrQqXFH_Zcu"
   },
   "source": [
    "De acuerdo con la segunda hipótesis, los lunes por la mañana y los viernes por la noche los ciudadanos de Springfield escuchan géneros que difieren de aquellos que los usuarios de Shelbyville disfrutan."
   ]
  },
  {
   "cell_type": "markdown",
   "metadata": {
    "id": "S8UcW6Hw_Zcu"
   },
   "source": [
    "Obtén tablas (asegúrate de que el nombre de tu tabla combinada encaja con el DataFrame dado en los dos bloques de código de abajo):\n",
    "* Para Springfield — `spr_general`\n",
    "* Para Shelbyville — `shel_general`"
   ]
  },
  {
   "cell_type": "code",
   "execution_count": 29,
   "metadata": {
    "id": "qeaFfM_P_Zcu"
   },
   "outputs": [
    {
     "name": "stdout",
     "output_type": "stream",
     "text": [
      "        user_id                          track                   artist  \\\n",
      "1      55204538    Delayed Because of Accident         Andreas Rönnberg   \n",
      "4      E2DC1FAE                    Soul People               Space Echo   \n",
      "6      4CB90AA5                           True             Roman Messer   \n",
      "7      F03E1C1F               Feeling This Way          Polina Griffith   \n",
      "8      8FA1D3BE                       L’estate              Julia Dalia   \n",
      "...         ...                            ...                      ...   \n",
      "65073  83A474E7  I Worship Only What You Bleed  The Black Dahlia Murder   \n",
      "65074  729CBB09                        My Name                   McLean   \n",
      "65076  C5E3A0D5                      Jalopiina                  unknown   \n",
      "65077  321D0506                  Freight Train            Chas McDevitt   \n",
      "65078  3A64EF84      Tell Me Sweet Little Lies             Monica Lopez   \n",
      "\n",
      "              genre         city      time        day  \n",
      "1              rock  Springfield  14:07:09     Friday  \n",
      "4             dance  Springfield  08:34:34     Monday  \n",
      "6             dance  Springfield  13:00:07  Wednesday  \n",
      "7             dance  Springfield  20:47:49  Wednesday  \n",
      "8            ruspop  Springfield  09:17:40     Friday  \n",
      "...             ...          ...       ...        ...  \n",
      "65073  extrememetal  Springfield  21:07:12     Monday  \n",
      "65074           rnb  Springfield  13:32:28  Wednesday  \n",
      "65076    industrial  Springfield  20:09:26     Friday  \n",
      "65077          rock  Springfield  21:43:59     Friday  \n",
      "65078       country  Springfield  21:59:46     Friday  \n",
      "\n",
      "[42741 rows x 7 columns]\n"
     ]
    }
   ],
   "source": [
    "# obteniendo la tabla spr_general de las filas de df, \n",
    "# donde los valores en la columna 'city' es 'Springfield'\n",
    "\n",
    "spr_general = df[df['city'] == 'Springfield']\n",
    "print(spr_general)\n",
    "\n"
   ]
  },
  {
   "cell_type": "code",
   "execution_count": 30,
   "metadata": {
    "id": "ORaVRKto_Zcu"
   },
   "outputs": [
    {
     "name": "stdout",
     "output_type": "stream",
     "text": [
      "        user_id                              track              artist  \\\n",
      "0      FFB692EC                  Kamigata To Boots    The Mass Missile   \n",
      "2        20EC38                  Funiculì funiculà         Mario Lanza   \n",
      "3      A3DD03C9              Dragons in the Sunset          Fire + Ice   \n",
      "5      842029A1                             Chains            Obladaet   \n",
      "9      E772D5C0                          Pessimist             unknown   \n",
      "...         ...                                ...                 ...   \n",
      "65063  D94F810B        Theme from the Walking Dead  Proyecto Halloween   \n",
      "65064  BC8EC5CF       Red Lips: Gta (Rover Rework)               Rover   \n",
      "65065  29E04611                       Bre Petrunko       Perunika Trio   \n",
      "65066  1B91C621             (Hello) Cloud Mountain     sleepmakeswaves   \n",
      "65075  D08D4A55  Maybe One Day (feat. Black Spade)         Blu & Exile   \n",
      "\n",
      "            genre         city      time        day  \n",
      "0            rock  Shelbyville  20:28:33  Wednesday  \n",
      "2             pop  Shelbyville  20:58:07  Wednesday  \n",
      "3            folk  Shelbyville  08:37:09     Monday  \n",
      "5          rusrap  Shelbyville  13:09:41     Friday  \n",
      "9           dance  Shelbyville  21:20:49  Wednesday  \n",
      "...           ...          ...       ...        ...  \n",
      "65063        film  Shelbyville  21:14:40     Monday  \n",
      "65064  electronic  Shelbyville  21:06:50     Monday  \n",
      "65065       world  Shelbyville  13:56:00     Monday  \n",
      "65066    postrock  Shelbyville  09:22:13     Monday  \n",
      "65075      hiphop  Shelbyville  10:00:00     Monday  \n",
      "\n",
      "[18512 rows x 7 columns]\n"
     ]
    }
   ],
   "source": [
    "# obteniendo shel_general de las filas df,\n",
    "# donde el valor de la columna 'city' es 'Shelbyville'\n",
    "\n",
    "shel_general = df[df['city'] == 'Shelbyville']\n",
    "print(shel_general)\n"
   ]
  },
  {
   "cell_type": "markdown",
   "metadata": {
    "id": "MEJV-CX2_Zcu"
   },
   "source": [
    "Escribe la función genre_weekday() con cuatro parámetros:\n",
    "* Una tabla para los datos (`df`)\n",
    "* El día de la semana (`day`)\n",
    "* La marca de fecha y hora en formato 'hh:mm' (`time1`)\n",
    "* La marca de fecha y hora en formato 'hh:mm' (`time2`)\n",
    "\n",
    "La función debería devolver información de los 15 géneros más populares de un día determinado en un período entre dos marcas de fecha y hora."
   ]
  },
  {
   "cell_type": "code",
   "execution_count": 31,
   "metadata": {
    "id": "laJT9BYl_Zcu"
   },
   "outputs": [],
   "source": [
    "# declarando la función genre_weekday() con los parámetros day=, time1= y time2=. Debería\n",
    "# devolver información sobre los géneros más populares de un determinado día a una determinada hora:\n",
    "\n",
    "def genre_weekday(df,day,time1,time2):\n",
    "    # 1) Deja que la variable genre_df almacene las filas que cumplen varias condiciones:\n",
    "\n",
    "    #    - el valor de la columna 'day' es igual al valor del argumento day=\n",
    "    genre_df= df[df['day']== day]\n",
    "    #    - el valor de la columna 'time' es mayor que el valor del argumento time1=\n",
    "    genre_df= df[df['time'] > time1]\n",
    "    #    - el valor en la columna 'time' es menor que el valor del argumento time2=\n",
    "    genre_df= df[df['time'] < time2]\n",
    "    #    Utiliza un filtrado consecutivo con indexación lógica.\n",
    "\n",
    "# 2) Agrupa genre_df por la columna 'genre', toma una de sus columnas, \n",
    "#    y utiliza el método count() para encontrar el número de entradas por cada uno de \n",
    "#    los géneros representados; almacena los Series resultantes en\n",
    "#    la variable genre_df_count\n",
    "    genre_df_count = genre_df.groupby('genre')['genre'].count()\n",
    "\n",
    "\n",
    "# 3) Ordena genre_df_count en orden descendente de frecuencia y guarda el resultado\n",
    "#    en la variable genre_df_sorted\n",
    "    genre_df_sorted = genre_df_count.sort_values(ascending=False)\n",
    "    \n",
    "\n",
    "# 4) Devuelve un objeto Series con los primeros 15 valores de genre_df_sorted - los 15\n",
    "#    géneros más populares (en un determinado día, en un determinado periodo de tiempo)\n",
    "\n",
    "# Escribe tu función aquí\n",
    "\n",
    "    # filtrado consecutivo\n",
    "    # genre_df solo almacenará aquellas filas df en las que el día sea igual a day=\n",
    " #   genre_df = df[df['day']== day] # escribe tu código aquí\n",
    "\n",
    "    # genre_df solo almacenará aquellas filas df en las que el tiempo sea menos que time2=\n",
    "#    genre_df = genre_df= df[df['time'] < time2]# escribe tu código aquí\n",
    "\n",
    "    # genre_df solo almacenará aquellas filas df en las que el tiempo sea mayor que time1=\n",
    "#    genre_df = genre_df= df[df['time'] > time1]# escribe tu código aquí\n",
    "\n",
    "    # agrupa el DataFrame filtrado por la columna con los nombres de los géneros, toma la columna de género, y encuentra el número de filas por cada género con el método count()\n",
    "#    genre_df_grouped = genre_df.groupby('genre')['genre'].count() # escribe tu código aquí\n",
    "\n",
    "    # ordenaremos el resultado en orden descendente (por lo que los géneros más populares aparecerán primero en el objeto Series)\n",
    " #   genre_df_sorted = genre_df_count.sort_values(ascending=False)# escribe tu código aquí\n",
    "\n",
    "    # devolveremos el objeto Series que almacena los 15 géneros más populares en un día determinado en un periodo de tiempo determinado\n",
    "    return genre_df_sorted[:15]\n",
    "\n"
   ]
  },
  {
   "cell_type": "markdown",
   "metadata": {
    "id": "la2s2_PF_Zcu"
   },
   "source": [
    "Compara los resultados de la función `genre_weekday()`para Springfield y Shelbyville el lunes por la mañana (de 7 a 11) y el viernes por la tarde (de 17:00 a 23:00):"
   ]
  },
  {
   "cell_type": "code",
   "execution_count": 32,
   "metadata": {
    "id": "yz7itPUQ_Zcu"
   },
   "outputs": [
    {
     "data": {
      "text/plain": [
       "genre\n",
       "pop            2015\n",
       "dance          1444\n",
       "rock           1259\n",
       "electronic     1249\n",
       "hiphop          709\n",
       "ruspop          510\n",
       "classical       473\n",
       "world           439\n",
       "alternative     436\n",
       "rusrap          406\n",
       "metal           307\n",
       "unknown         305\n",
       "jazz            263\n",
       "soundtrack      251\n",
       "folk            222\n",
       "Name: genre, dtype: int64"
      ]
     },
     "execution_count": 32,
     "metadata": {},
     "output_type": "execute_result"
    }
   ],
   "source": [
    "# llamando a la función para el lunes por la mañana en Springfield (utilizando spr_general en vez de la tabla df)\n",
    "genre_weekday(spr_general,'Monday','7:00','11:00')"
   ]
  },
  {
   "cell_type": "code",
   "execution_count": 33,
   "metadata": {
    "id": "kwUcHPdy_Zcu"
   },
   "outputs": [
    {
     "data": {
      "text/plain": [
       "genre\n",
       "pop            701\n",
       "dance          606\n",
       "rock           520\n",
       "electronic     519\n",
       "hiphop         288\n",
       "rusrap         195\n",
       "alternative    184\n",
       "ruspop         174\n",
       "classical      155\n",
       "world          130\n",
       "jazz           119\n",
       "metal          114\n",
       "rap            102\n",
       "rnb             98\n",
       "soundtrack      97\n",
       "Name: genre, dtype: int64"
      ]
     },
     "execution_count": 33,
     "metadata": {},
     "output_type": "execute_result"
    }
   ],
   "source": [
    "# llamando a la función para el lunes por la mañana en Shelbyville (utilizando shel_general en vez de la tabla df)\n",
    "genre_weekday(shel_general,'Monday','7:00','11:00')"
   ]
  },
  {
   "cell_type": "code",
   "execution_count": 34,
   "metadata": {
    "id": "EzXVRE1o_Zcu"
   },
   "outputs": [
    {
     "data": {
      "text/plain": [
       "genre\n",
       "pop            5892\n",
       "dance          4435\n",
       "rock           3965\n",
       "electronic     3786\n",
       "hiphop         2096\n",
       "classical      1616\n",
       "world          1432\n",
       "alternative    1379\n",
       "ruspop         1372\n",
       "rusrap         1161\n",
       "jazz            980\n",
       "unknown         849\n",
       "metal           832\n",
       "soundtrack      785\n",
       "folk            692\n",
       "Name: genre, dtype: int64"
      ]
     },
     "execution_count": 34,
     "metadata": {},
     "output_type": "execute_result"
    }
   ],
   "source": [
    "# llamando a la función para el viernes por la tarde en Springfield\n",
    "genre_weekday(spr_general,'Friday','17:00','23:00')"
   ]
  },
  {
   "cell_type": "code",
   "execution_count": 35,
   "metadata": {
    "id": "JZaEKu5v_Zcu"
   },
   "outputs": [
    {
     "data": {
      "text/plain": [
       "genre\n",
       "pop            2431\n",
       "dance          1932\n",
       "rock           1879\n",
       "electronic     1736\n",
       "hiphop          960\n",
       "alternative     649\n",
       "classical       646\n",
       "rusrap          564\n",
       "ruspop          538\n",
       "world           515\n",
       "jazz            486\n",
       "metal           378\n",
       "soundtrack      331\n",
       "rnb             321\n",
       "rap             309\n",
       "Name: genre, dtype: int64"
      ]
     },
     "execution_count": 35,
     "metadata": {},
     "output_type": "execute_result"
    }
   ],
   "source": [
    "# llamando a la función para el viernes por la tarde en Shelbyville\n",
    "genre_weekday(shel_general,'Friday','17:00','23:00')"
   ]
  },
  {
   "cell_type": "markdown",
   "metadata": {
    "id": "wrCe4MNX_Zcu"
   },
   "source": [
    "**Conclusión**\n",
    "\n",
    "Habiendo comparado los 15 géneros más populares del lunes por la mañana podemos concluir lo siguiente:\n",
    "\n",
    "1. Los usuarios de Springfield y Shelbyville escuchan música similar. Los cinco géneros más populares son los mismos, solo rock y electrónica han intercambiado posiciones.\n",
    "\n",
    "2. En Springfield el número de valores ausentes resultaron ser tan altos que el valor `'unknown'` llegó al décimo. Esto significa que los valores ausentes forman una parte considerable de los datos, lo que podría ser la base de la cuestión sobre la fiabilidad de nuestras conclusiones.\n",
    "\n",
    "Para el viernes por la tarde, la situación es similar. Los géneros individuales varían algo pero, en general, los 15 más populares son parecidos en las dos ciudades.\n",
    "\n",
    "De esta forma, la segunda hipótesis ha sido parcialmente demostrada:\n",
    "* Los usuarios escuchan música similar al principio y al final de la semana.\n",
    "* No hay una gran diferencia entre Springfield y Shelbyville. En ambas ciudades, el pop es el género más popular.\n",
    "\n",
    "Sin embargo, el número de valores ausentes hace este resultado un tanto cuestionable. En Springfield, hay tantos que afectan a nuestros 15 más populares. De no faltarnos esos valores, las cosas podrían parecer diferentes."
   ]
  },
  {
   "cell_type": "markdown",
   "metadata": {},
   "source": [
    "<div class=\"alert alert-block alert-success\">\n",
    "<b>Éxito</b> <a class=\"tocSkip\"></a>\n",
    "\n",
    "Perfecto! Precisa definición de tus funciones!"
   ]
  },
  {
   "cell_type": "markdown",
   "metadata": {
    "id": "jLmXgdanVyhP"
   },
   "source": [
    "[Volver a Contenidos](#back)"
   ]
  },
  {
   "cell_type": "markdown",
   "metadata": {
    "id": "JolODAqr_Zcu"
   },
   "source": [
    "### Hipótesis 3: preferencias de género en Springfield y Shelbyville <a id='genre'></a>\n",
    "\n",
    "Hipótesis: Shelbyville ama la música rap. A los ciudadanos de Springfield les gusta más el pop."
   ]
  },
  {
   "cell_type": "markdown",
   "metadata": {
    "id": "DlegSvaT_Zcu"
   },
   "source": [
    "Agrupa la tabla `spr_general` por género y encuentra el número de canciones reproducidas de cada género con el método `count()`. Después, ordena el resultado en orden descendente y guárdalo en `spr_genres`."
   ]
  },
  {
   "cell_type": "code",
   "execution_count": 36,
   "metadata": {
    "id": "r19lIPke_Zcu"
   },
   "outputs": [],
   "source": [
    "# en una línea: agrupa la tabla spr_general por la columna 'genre', \n",
    "# cuenta los valores 'genre' con count() en la agrupación, \n",
    "# ordena el Series resultante en orden descendiente, y almacénalo en spr_genres\n",
    "\n",
    "genre_df_count = spr_general.groupby('genre')['genre'].count()\n",
    "spr_genres = genre_df_count.sort_values(ascending=False)"
   ]
  },
  {
   "cell_type": "markdown",
   "metadata": {
    "id": "6kMuomxTiIr8"
   },
   "source": [
    "Imprime las 10 primeras filas de `spr_genres`:"
   ]
  },
  {
   "cell_type": "code",
   "execution_count": 37,
   "metadata": {
    "id": "WhCSooF8_Zcv"
   },
   "outputs": [
    {
     "name": "stdout",
     "output_type": "stream",
     "text": [
      "genre\n",
      "pop            5892\n",
      "dance          4435\n",
      "rock           3965\n",
      "electronic     3786\n",
      "hiphop         2096\n",
      "classical      1616\n",
      "world          1432\n",
      "alternative    1379\n",
      "ruspop         1372\n",
      "rusrap         1161\n",
      "Name: genre, dtype: int64\n"
     ]
    }
   ],
   "source": [
    "print(spr_genres.head(10))# imprimiendo las 10 primeras filas de spr_genres"
   ]
  },
  {
   "cell_type": "markdown",
   "metadata": {
    "id": "cnPG2vnN_Zcv"
   },
   "source": [
    "Ahora haz lo mismo con los datos de Shelbyville.\n",
    "\n",
    "Agrupa la tabla `shel_general` por género y encuentra el número de canciones reproducidas de cada género. Después, ordena el resultado en orden descendente y guárdalo en la tabla `shel_genres`:\n"
   ]
  },
  {
   "cell_type": "code",
   "execution_count": 38,
   "metadata": {
    "id": "gluLIpE7_Zcv"
   },
   "outputs": [],
   "source": [
    "# en una línea: agrupa la tabla shel_general por la columna 'genre', \n",
    "# cuenta los valores 'genre' en el agrupamiento con count(), \n",
    "# ordena el Series resultante en orden descendente y guárdalo en shel_genres\n",
    "\n",
    "genre_df_count = shel_general.groupby('genre')['genre'].count()\n",
    "shel_genres = genre_df_count.sort_values(ascending=False)"
   ]
  },
  {
   "cell_type": "markdown",
   "metadata": {
    "id": "5Doha_ODgyQ8"
   },
   "source": [
    "Imprime las 10 primeras filas de `shel_genres`:"
   ]
  },
  {
   "cell_type": "code",
   "execution_count": 39,
   "metadata": {
    "id": "uaGJHjVU_Zcv"
   },
   "outputs": [
    {
     "name": "stdout",
     "output_type": "stream",
     "text": [
      "genre\n",
      "pop            2431\n",
      "dance          1932\n",
      "rock           1879\n",
      "electronic     1736\n",
      "hiphop          960\n",
      "alternative     649\n",
      "classical       646\n",
      "rusrap          564\n",
      "ruspop          538\n",
      "world           515\n",
      "Name: genre, dtype: int64\n"
     ]
    }
   ],
   "source": [
    "print(shel_genres.head(10))# imprimiendo las 10 primeras filas de shel_genres"
   ]
  },
  {
   "cell_type": "markdown",
   "metadata": {
    "id": "RY51YJYu_Zcv"
   },
   "source": [
    "**Conclusión**"
   ]
  },
  {
   "cell_type": "markdown",
   "metadata": {
    "id": "nVhnJEm__Zcv"
   },
   "source": [
    "La hipótesis ha sido parcialmente demostrada:\n",
    "* La música pop es el género más popular en Springfield, tal como se esperaba.\n",
    "* Sin embargo, la música pop ha resultado ser igual de popular en Springfield que en Shelbyville y el rap no estaba entre los 5 más populares en ninguna de las ciudades.\n"
   ]
  },
  {
   "cell_type": "markdown",
   "metadata": {
    "id": "Byr0RfpPVz14"
   },
   "source": [
    "[Volver a Contenidos](#back)"
   ]
  },
  {
   "cell_type": "markdown",
   "metadata": {
    "id": "ykKQ0N65_Zcv"
   },
   "source": [
    "# Conclusiones <a id='end'></a>"
   ]
  },
  {
   "cell_type": "markdown",
   "metadata": {
    "id": "tjUwbHb3_Zcv"
   },
   "source": [
    "Hemos probado las siguientes tres hipótesis:\n",
    "\n",
    "1. La actividad de los usuarios difiere dependiendo del día de la semana y de las distintas ciudades. \n",
    "2. Los lunes por la mañana los residentes de Springfield y Shelbyville escuchan géneros distintos. Lo mismo ocurre con los viernes por la noche.\n",
    "3. Los oyentes de Springfield y Shelbyville tienen distintas preferencias. En ambas ciudades, Springfield y Shelbyville, se prefiere el pop.\n",
    "\n",
    "Tras analizar los datos, concluimos:\n",
    "\n",
    "1. La actividad del usuario en Springfield y Shelbyville depende del día de la semana aunque las ciudades varían de diferentes formas. \n",
    "\n",
    "La primera hipótesis ha sido aceptada completamente.\n",
    "\n",
    "2. Las preferencias musicales no varían significativamente en el transcurso de la semana en Springfield y Shelbyville. Podemos observar pequeñas diferencias en el orden los lunes, pero:\n",
    "* En Springfield y Shelbyville la gente lo que más escucha es la música pop.\n",
    "\n",
    "Así que no podemos aceptar esta hipótesis. También debemos tener en cuenta que el resultado podría haber sido diferente si no fuera por los valores ausentes.\n",
    "\n",
    "3. Resulta que las preferencias musicales de los usuarios de Springfield y Shelbyville son bastante parecidas.\n",
    "\n",
    "La tercera hipótesis es rechazada. Si hay alguna diferencia en las preferencias no se puede observar en los datos.\n",
    "\n",
    "### Nota \n",
    "En los proyectos reales, la investigación supone el estudio de hipótesis estadísticas que es más preciso y cuantitativo. También ten en cuenta que no siempre podemos sacar conclusiones sobre una ciudad entera basándonos en datos de una sola fuente.\n",
    "\n",
    "Analizarás el estudio de hipótesis en el sprint de análisis estadístico de datos."
   ]
  },
  {
   "cell_type": "markdown",
   "metadata": {},
   "source": [
    "<div class=\"alert alert-block alert-success\">\n",
    "<b>Éxito</b> <a class=\"tocSkip\"></a>\n",
    "\n",
    "Excelentes conclusiones recapitulando todo el proyecto!</div>"
   ]
  },
  {
   "cell_type": "markdown",
   "metadata": {
    "id": "Ju4AHDSgV1FE"
   },
   "source": [
    "[Volver a Contenidos](#back)"
   ]
  }
 ],
 "metadata": {
  "ExecuteTimeLog": [
   {
    "duration": 420,
    "start_time": "2022-06-16T18:47:48.806Z"
   },
   {
    "duration": 2,
    "start_time": "2022-06-16T18:47:52.860Z"
   },
   {
    "duration": 2,
    "start_time": "2022-06-16T18:47:56.843Z"
   },
   {
    "duration": 3,
    "start_time": "2022-06-16T18:48:01.076Z"
   },
   {
    "duration": 3,
    "start_time": "2022-06-16T18:49:57.993Z"
   },
   {
    "duration": 60,
    "start_time": "2022-06-16T18:52:02.496Z"
   },
   {
    "duration": 10,
    "start_time": "2022-06-16T18:52:43.400Z"
   },
   {
    "duration": 3,
    "start_time": "2022-06-16T18:53:29.015Z"
   },
   {
    "duration": 419,
    "start_time": "2022-06-16T18:53:31.555Z"
   },
   {
    "duration": 8,
    "start_time": "2022-06-16T19:07:24.506Z"
   },
   {
    "duration": 15,
    "start_time": "2022-06-16T19:10:42.562Z"
   },
   {
    "duration": 13,
    "start_time": "2022-06-16T19:11:02.871Z"
   },
   {
    "duration": 3,
    "start_time": "2022-06-16T19:25:04.650Z"
   },
   {
    "duration": 3,
    "start_time": "2022-06-16T19:25:08.202Z"
   },
   {
    "duration": 30,
    "start_time": "2022-06-16T19:29:45.011Z"
   },
   {
    "duration": 3,
    "start_time": "2022-06-16T19:47:09.513Z"
   },
   {
    "duration": 47,
    "start_time": "2022-06-17T01:07:41.505Z"
   },
   {
    "duration": 6,
    "start_time": "2022-06-17T01:07:45.195Z"
   },
   {
    "duration": 14,
    "start_time": "2022-06-17T01:12:55.493Z"
   },
   {
    "duration": 4,
    "start_time": "2022-06-17T01:13:01.227Z"
   },
   {
    "duration": 13,
    "start_time": "2022-06-17T01:13:30.131Z"
   },
   {
    "duration": 12,
    "start_time": "2022-06-17T01:13:57.419Z"
   },
   {
    "duration": 11,
    "start_time": "2022-06-17T01:14:03.139Z"
   },
   {
    "duration": 4,
    "start_time": "2022-06-17T01:14:08.467Z"
   },
   {
    "duration": 21,
    "start_time": "2022-06-17T01:53:40.455Z"
   },
   {
    "duration": 25,
    "start_time": "2022-06-17T02:06:03.252Z"
   },
   {
    "duration": 8,
    "start_time": "2022-06-17T02:06:13.504Z"
   },
   {
    "duration": 7,
    "start_time": "2022-06-17T02:17:08.962Z"
   },
   {
    "duration": 8,
    "start_time": "2022-06-17T02:22:24.752Z"
   },
   {
    "duration": 7,
    "start_time": "2022-06-17T02:22:26.801Z"
   },
   {
    "duration": 22,
    "start_time": "2022-06-17T02:22:30.688Z"
   },
   {
    "duration": 7,
    "start_time": "2022-06-17T02:23:24.316Z"
   },
   {
    "duration": 8,
    "start_time": "2022-06-17T02:24:56.416Z"
   },
   {
    "duration": 15,
    "start_time": "2022-06-17T02:25:42.957Z"
   },
   {
    "duration": 22,
    "start_time": "2022-06-17T02:26:21.567Z"
   },
   {
    "duration": 80,
    "start_time": "2022-06-17T15:56:33.159Z"
   },
   {
    "duration": 371,
    "start_time": "2022-06-17T17:40:51.823Z"
   },
   {
    "duration": 349,
    "start_time": "2022-06-17T17:40:55.785Z"
   },
   {
    "duration": 303,
    "start_time": "2022-06-17T17:41:18.232Z"
   },
   {
    "duration": 318,
    "start_time": "2022-06-17T17:41:22.978Z"
   },
   {
    "duration": 23,
    "start_time": "2022-06-17T17:41:29.897Z"
   },
   {
    "duration": 325,
    "start_time": "2022-06-17T17:41:33.806Z"
   },
   {
    "duration": 23,
    "start_time": "2022-06-17T17:41:37.992Z"
   },
   {
    "duration": 301,
    "start_time": "2022-06-17T17:41:44.017Z"
   },
   {
    "duration": 26,
    "start_time": "2022-06-17T17:41:52.999Z"
   },
   {
    "duration": 11,
    "start_time": "2022-06-17T17:42:26.583Z"
   },
   {
    "duration": 3,
    "start_time": "2022-06-17T17:42:30.105Z"
   },
   {
    "duration": 19,
    "start_time": "2022-06-17T17:42:36.603Z"
   },
   {
    "duration": 22,
    "start_time": "2022-06-17T17:42:41.500Z"
   },
   {
    "duration": 68,
    "start_time": "2022-06-17T17:42:59.506Z"
   },
   {
    "duration": 70,
    "start_time": "2022-06-17T17:52:43.900Z"
   },
   {
    "duration": 79,
    "start_time": "2022-06-17T17:54:16.949Z"
   },
   {
    "duration": 29,
    "start_time": "2022-06-17T18:04:01.469Z"
   },
   {
    "duration": 6,
    "start_time": "2022-06-17T18:04:21.065Z"
   },
   {
    "duration": 7,
    "start_time": "2022-06-17T18:11:50.662Z"
   },
   {
    "duration": 11,
    "start_time": "2022-06-17T18:12:27.904Z"
   },
   {
    "duration": 299,
    "start_time": "2022-06-17T18:12:37.697Z"
   },
   {
    "duration": 42,
    "start_time": "2022-06-17T18:12:50.816Z"
   },
   {
    "duration": 37,
    "start_time": "2022-06-17T18:14:34.142Z"
   },
   {
    "duration": 7,
    "start_time": "2022-06-17T18:17:50.218Z"
   },
   {
    "duration": 52,
    "start_time": "2022-06-17T18:18:08.746Z"
   },
   {
    "duration": 56,
    "start_time": "2022-06-17T18:18:17.251Z"
   },
   {
    "duration": 40,
    "start_time": "2022-06-17T18:18:32.413Z"
   },
   {
    "duration": 43,
    "start_time": "2022-06-17T18:18:56.950Z"
   },
   {
    "duration": 7,
    "start_time": "2022-06-17T18:26:20.523Z"
   },
   {
    "duration": 10,
    "start_time": "2022-06-17T18:26:52.550Z"
   },
   {
    "duration": 9,
    "start_time": "2022-06-17T18:28:51.748Z"
   },
   {
    "duration": 8,
    "start_time": "2022-06-17T18:29:00.253Z"
   },
   {
    "duration": 13,
    "start_time": "2022-06-17T18:30:40.277Z"
   },
   {
    "duration": 14,
    "start_time": "2022-06-17T18:36:15.876Z"
   },
   {
    "duration": 14,
    "start_time": "2022-06-17T18:36:24.256Z"
   },
   {
    "duration": 14,
    "start_time": "2022-06-17T18:40:40.195Z"
   },
   {
    "duration": 7,
    "start_time": "2022-06-17T18:55:28.188Z"
   },
   {
    "duration": 9,
    "start_time": "2022-06-17T18:55:52.023Z"
   },
   {
    "duration": 7,
    "start_time": "2022-06-17T18:56:11.497Z"
   },
   {
    "duration": 13,
    "start_time": "2022-06-17T19:02:22.473Z"
   },
   {
    "duration": 12,
    "start_time": "2022-06-17T19:02:58.433Z"
   },
   {
    "duration": 10,
    "start_time": "2022-06-17T19:10:51.677Z"
   },
   {
    "duration": 56,
    "start_time": "2022-06-17T19:11:38.481Z"
   },
   {
    "duration": 10,
    "start_time": "2022-06-17T19:12:52.657Z"
   },
   {
    "duration": 7,
    "start_time": "2022-06-17T19:13:22.532Z"
   },
   {
    "duration": 7,
    "start_time": "2022-06-17T19:13:29.012Z"
   },
   {
    "duration": 49,
    "start_time": "2022-06-17T19:14:07.508Z"
   },
   {
    "duration": 48,
    "start_time": "2022-06-17T19:15:07.715Z"
   },
   {
    "duration": 85,
    "start_time": "2022-06-17T19:16:43.348Z"
   },
   {
    "duration": 25,
    "start_time": "2022-06-17T19:16:59.886Z"
   },
   {
    "duration": 26,
    "start_time": "2022-06-17T19:17:18.008Z"
   },
   {
    "duration": 87,
    "start_time": "2022-06-17T19:17:45.301Z"
   },
   {
    "duration": 48,
    "start_time": "2022-06-17T19:18:10.569Z"
   },
   {
    "duration": 46,
    "start_time": "2022-06-17T19:19:44.963Z"
   },
   {
    "duration": 6,
    "start_time": "2022-06-17T19:23:11.717Z"
   },
   {
    "duration": 47,
    "start_time": "2022-06-17T19:23:51.815Z"
   },
   {
    "duration": 54,
    "start_time": "2022-06-17T19:24:01.955Z"
   },
   {
    "duration": 368,
    "start_time": "2022-06-17T19:27:50.852Z"
   },
   {
    "duration": 47,
    "start_time": "2022-06-17T19:28:29.060Z"
   },
   {
    "duration": 43,
    "start_time": "2022-06-17T19:28:52.472Z"
   },
   {
    "duration": 51,
    "start_time": "2022-06-17T19:29:10.885Z"
   },
   {
    "duration": 60,
    "start_time": "2022-06-17T19:30:03.255Z"
   },
   {
    "duration": 51,
    "start_time": "2022-06-17T19:30:48.846Z"
   },
   {
    "duration": 57,
    "start_time": "2022-06-17T19:30:57.244Z"
   },
   {
    "duration": 28,
    "start_time": "2022-06-17T19:31:03.250Z"
   },
   {
    "duration": 49,
    "start_time": "2022-06-17T19:31:09.135Z"
   },
   {
    "duration": 6,
    "start_time": "2022-06-18T04:39:49.074Z"
   },
   {
    "duration": 6,
    "start_time": "2022-06-18T04:40:03.194Z"
   },
   {
    "duration": 6,
    "start_time": "2022-06-18T04:40:05.848Z"
   },
   {
    "duration": 7,
    "start_time": "2022-06-18T04:40:08.256Z"
   },
   {
    "duration": 399,
    "start_time": "2022-06-18T04:40:15.968Z"
   },
   {
    "duration": 324,
    "start_time": "2022-06-18T04:40:18.900Z"
   },
   {
    "duration": 60,
    "start_time": "2022-06-18T04:40:25.954Z"
   },
   {
    "duration": 66,
    "start_time": "2022-06-18T04:40:27.913Z"
   },
   {
    "duration": 56,
    "start_time": "2022-06-18T04:40:30.713Z"
   },
   {
    "duration": 2,
    "start_time": "2022-06-18T04:40:33.640Z"
   },
   {
    "duration": 3,
    "start_time": "2022-06-18T04:41:05.928Z"
   },
   {
    "duration": 50,
    "start_time": "2022-06-18T04:41:52.922Z"
   },
   {
    "duration": 5,
    "start_time": "2022-06-18T04:52:44.844Z"
   },
   {
    "duration": 5,
    "start_time": "2022-06-18T04:57:13.816Z"
   },
   {
    "duration": 27,
    "start_time": "2022-06-18T04:58:02.790Z"
   },
   {
    "duration": 46,
    "start_time": "2022-06-18T05:01:02.256Z"
   },
   {
    "duration": 46,
    "start_time": "2022-06-18T05:02:54.232Z"
   },
   {
    "duration": 8,
    "start_time": "2022-06-18T05:06:22.315Z"
   },
   {
    "duration": 27,
    "start_time": "2022-06-18T05:06:34.954Z"
   },
   {
    "duration": 40,
    "start_time": "2022-06-18T05:08:10.362Z"
   },
   {
    "duration": 42,
    "start_time": "2022-06-18T05:09:29.232Z"
   },
   {
    "duration": 37,
    "start_time": "2022-06-18T05:09:43.658Z"
   },
   {
    "duration": 40,
    "start_time": "2022-06-18T05:10:23.186Z"
   },
   {
    "duration": 36,
    "start_time": "2022-06-18T05:10:44.165Z"
   },
   {
    "duration": 40,
    "start_time": "2022-06-18T05:10:53.770Z"
   },
   {
    "duration": 39,
    "start_time": "2022-06-18T05:10:56.657Z"
   },
   {
    "duration": 39,
    "start_time": "2022-06-18T05:11:01.936Z"
   },
   {
    "duration": 37,
    "start_time": "2022-06-18T05:11:30.755Z"
   },
   {
    "duration": 6,
    "start_time": "2022-06-18T05:12:13.114Z"
   },
   {
    "duration": 5,
    "start_time": "2022-06-18T05:16:20.730Z"
   },
   {
    "duration": 43,
    "start_time": "2022-06-18T05:17:31.539Z"
   },
   {
    "duration": 399,
    "start_time": "2022-06-18T13:07:20.944Z"
   },
   {
    "duration": 4,
    "start_time": "2022-06-18T13:23:12.992Z"
   },
   {
    "duration": 83,
    "start_time": "2022-06-18T13:23:24.386Z"
   },
   {
    "duration": 7,
    "start_time": "2022-06-18T13:23:27.626Z"
   },
   {
    "duration": 3,
    "start_time": "2022-06-18T13:23:35.103Z"
   },
   {
    "duration": 579,
    "start_time": "2022-06-18T13:23:38.264Z"
   },
   {
    "duration": 36,
    "start_time": "2022-06-18T13:23:47.845Z"
   },
   {
    "duration": 21,
    "start_time": "2022-06-18T14:20:28.156Z"
   },
   {
    "duration": 16,
    "start_time": "2022-06-18T14:20:53.002Z"
   },
   {
    "duration": 29,
    "start_time": "2022-06-18T14:22:40.349Z"
   },
   {
    "duration": 41,
    "start_time": "2022-06-18T14:24:58.880Z"
   },
   {
    "duration": 29,
    "start_time": "2022-06-18T14:25:43.482Z"
   },
   {
    "duration": 46,
    "start_time": "2022-06-18T14:27:36.745Z"
   },
   {
    "duration": 8,
    "start_time": "2022-06-18T14:31:00.297Z"
   },
   {
    "duration": 13,
    "start_time": "2022-06-18T14:31:20.161Z"
   },
   {
    "duration": 7,
    "start_time": "2022-06-18T14:31:23.088Z"
   },
   {
    "duration": 50,
    "start_time": "2022-06-18T14:31:29.528Z"
   },
   {
    "duration": 8,
    "start_time": "2022-06-18T14:31:35.819Z"
   },
   {
    "duration": 11,
    "start_time": "2022-06-18T14:31:51.840Z"
   },
   {
    "duration": 10,
    "start_time": "2022-06-18T14:32:19.002Z"
   },
   {
    "duration": 29,
    "start_time": "2022-06-18T14:32:34.857Z"
   },
   {
    "duration": 28,
    "start_time": "2022-06-18T14:33:55.503Z"
   },
   {
    "duration": 38,
    "start_time": "2022-06-18T14:34:16.954Z"
   },
   {
    "duration": 28,
    "start_time": "2022-06-18T14:34:38.944Z"
   },
   {
    "duration": 30,
    "start_time": "2022-06-18T14:35:18.321Z"
   },
   {
    "duration": 3,
    "start_time": "2022-06-18T14:37:38.714Z"
   },
   {
    "duration": 26,
    "start_time": "2022-06-18T14:37:55.086Z"
   },
   {
    "duration": 54,
    "start_time": "2022-06-18T14:39:26.382Z"
   },
   {
    "duration": 36,
    "start_time": "2022-06-18T14:39:39.798Z"
   },
   {
    "duration": 2,
    "start_time": "2022-06-19T20:34:11.661Z"
   },
   {
    "duration": 299,
    "start_time": "2022-06-19T20:34:14.267Z"
   },
   {
    "duration": 46,
    "start_time": "2022-06-19T21:10:00.900Z"
   },
   {
    "duration": 4,
    "start_time": "2022-06-19T21:10:42.851Z"
   },
   {
    "duration": 15,
    "start_time": "2022-06-19T21:10:51.990Z"
   },
   {
    "duration": 17,
    "start_time": "2022-06-19T21:10:54.408Z"
   },
   {
    "duration": 5,
    "start_time": "2022-06-19T21:10:57.450Z"
   },
   {
    "duration": 39,
    "start_time": "2022-06-19T21:11:05.778Z"
   },
   {
    "duration": 62,
    "start_time": "2022-06-19T21:11:28.814Z"
   },
   {
    "duration": 9,
    "start_time": "2022-06-19T21:11:31.376Z"
   },
   {
    "duration": 4,
    "start_time": "2022-06-19T21:11:35.435Z"
   },
   {
    "duration": 28,
    "start_time": "2022-06-19T21:11:39.138Z"
   },
   {
    "duration": 36,
    "start_time": "2022-06-19T21:12:31.954Z"
   },
   {
    "duration": 21,
    "start_time": "2022-06-19T21:24:38.757Z"
   },
   {
    "duration": 14,
    "start_time": "2022-06-19T21:24:55.695Z"
   },
   {
    "duration": 32,
    "start_time": "2022-06-19T21:25:27.695Z"
   },
   {
    "duration": 46,
    "start_time": "2022-06-19T22:54:52.892Z"
   },
   {
    "duration": 443,
    "start_time": "2022-06-19T22:55:01.194Z"
   },
   {
    "duration": 364,
    "start_time": "2022-06-19T22:55:03.429Z"
   },
   {
    "duration": 32,
    "start_time": "2022-06-19T22:55:12.140Z"
   },
   {
    "duration": 11,
    "start_time": "2022-06-19T22:55:15.253Z"
   },
   {
    "duration": 10,
    "start_time": "2022-06-19T22:55:23.453Z"
   },
   {
    "duration": 43,
    "start_time": "2022-06-19T22:55:28.793Z"
   },
   {
    "duration": 4,
    "start_time": "2022-06-19T22:55:32.517Z"
   },
   {
    "duration": 44,
    "start_time": "2022-06-19T22:55:38.305Z"
   },
   {
    "duration": 65,
    "start_time": "2022-06-19T22:55:44.830Z"
   },
   {
    "duration": 9,
    "start_time": "2022-06-19T22:55:50.160Z"
   },
   {
    "duration": 9,
    "start_time": "2022-06-19T22:55:52.082Z"
   },
   {
    "duration": 10,
    "start_time": "2022-06-19T22:55:55.109Z"
   },
   {
    "duration": 10,
    "start_time": "2022-06-19T22:57:30.592Z"
   },
   {
    "duration": 9,
    "start_time": "2022-06-19T22:57:33.948Z"
   },
   {
    "duration": 3,
    "start_time": "2022-06-19T22:57:45.005Z"
   },
   {
    "duration": 261,
    "start_time": "2022-06-19T22:57:47.024Z"
   },
   {
    "duration": 9,
    "start_time": "2022-06-19T22:57:50.207Z"
   },
   {
    "duration": 28,
    "start_time": "2022-06-19T22:57:51.405Z"
   },
   {
    "duration": 3,
    "start_time": "2022-06-19T22:57:53.773Z"
   },
   {
    "duration": 11,
    "start_time": "2022-06-19T22:57:54.170Z"
   },
   {
    "duration": 4,
    "start_time": "2022-06-19T22:57:54.565Z"
   },
   {
    "duration": 24,
    "start_time": "2022-06-19T22:57:55.129Z"
   },
   {
    "duration": 18,
    "start_time": "2022-06-19T22:57:55.502Z"
   },
   {
    "duration": 24,
    "start_time": "2022-06-19T22:57:55.869Z"
   },
   {
    "duration": 58,
    "start_time": "2022-06-19T22:57:56.669Z"
   },
   {
    "duration": 61,
    "start_time": "2022-06-19T22:57:57.084Z"
   },
   {
    "duration": 53,
    "start_time": "2022-06-19T22:57:57.484Z"
   },
   {
    "duration": 41,
    "start_time": "2022-06-19T22:57:58.100Z"
   },
   {
    "duration": 3,
    "start_time": "2022-06-19T22:57:58.481Z"
   },
   {
    "duration": 26,
    "start_time": "2022-06-19T22:57:58.893Z"
   },
   {
    "duration": 38,
    "start_time": "2022-06-19T22:57:59.257Z"
   },
   {
    "duration": 30,
    "start_time": "2022-06-19T22:58:04.861Z"
   },
   {
    "duration": 30,
    "start_time": "2022-06-19T22:58:06.559Z"
   },
   {
    "duration": 2,
    "start_time": "2022-06-19T22:58:10.235Z"
   },
   {
    "duration": 42,
    "start_time": "2022-06-19T23:18:54.489Z"
   },
   {
    "duration": 55,
    "start_time": "2022-06-19T23:52:22.936Z"
   },
   {
    "duration": 4,
    "start_time": "2022-06-20T02:03:51.172Z"
   },
   {
    "duration": 8,
    "start_time": "2022-06-20T02:04:10.660Z"
   },
   {
    "duration": 33,
    "start_time": "2022-06-20T02:04:30.868Z"
   },
   {
    "duration": 9,
    "start_time": "2022-06-20T02:04:38.875Z"
   },
   {
    "duration": 4,
    "start_time": "2022-06-20T02:05:00.996Z"
   },
   {
    "duration": 6,
    "start_time": "2022-06-20T02:05:10.124Z"
   },
   {
    "duration": 5,
    "start_time": "2022-06-20T02:06:07.860Z"
   },
   {
    "duration": 3,
    "start_time": "2022-06-20T02:07:43.590Z"
   },
   {
    "duration": 4,
    "start_time": "2022-06-20T02:08:32.957Z"
   },
   {
    "duration": 9,
    "start_time": "2022-06-20T02:08:48.004Z"
   },
   {
    "duration": 5,
    "start_time": "2022-06-20T02:13:41.633Z"
   },
   {
    "duration": 8,
    "start_time": "2022-06-20T02:14:31.251Z"
   },
   {
    "duration": 46,
    "start_time": "2022-06-20T02:14:52.143Z"
   },
   {
    "duration": 12,
    "start_time": "2022-06-20T02:15:07.018Z"
   },
   {
    "duration": 4,
    "start_time": "2022-06-20T02:16:19.741Z"
   },
   {
    "duration": 4,
    "start_time": "2022-06-20T02:16:24.642Z"
   },
   {
    "duration": 12,
    "start_time": "2022-06-20T02:29:33.824Z"
   },
   {
    "duration": 4,
    "start_time": "2022-06-20T02:39:54.820Z"
   },
   {
    "duration": 354,
    "start_time": "2022-06-20T16:49:27.613Z"
   },
   {
    "duration": 312,
    "start_time": "2022-06-20T16:49:27.985Z"
   },
   {
    "duration": 11,
    "start_time": "2022-06-20T16:49:28.331Z"
   },
   {
    "duration": 28,
    "start_time": "2022-06-20T16:49:28.680Z"
   },
   {
    "duration": 3,
    "start_time": "2022-06-20T16:49:29.792Z"
   },
   {
    "duration": 11,
    "start_time": "2022-06-20T16:49:30.184Z"
   },
   {
    "duration": 4,
    "start_time": "2022-06-20T16:49:30.556Z"
   },
   {
    "duration": 21,
    "start_time": "2022-06-20T16:49:31.136Z"
   },
   {
    "duration": 15,
    "start_time": "2022-06-20T16:49:31.481Z"
   },
   {
    "duration": 20,
    "start_time": "2022-06-20T16:49:31.880Z"
   },
   {
    "duration": 64,
    "start_time": "2022-06-20T16:49:32.636Z"
   },
   {
    "duration": 60,
    "start_time": "2022-06-20T16:49:33.296Z"
   },
   {
    "duration": 51,
    "start_time": "2022-06-20T16:49:33.828Z"
   },
   {
    "duration": 34,
    "start_time": "2022-06-20T16:49:34.535Z"
   },
   {
    "duration": 3,
    "start_time": "2022-06-20T16:49:38.032Z"
   },
   {
    "duration": 25,
    "start_time": "2022-06-20T16:49:41.992Z"
   },
   {
    "duration": 35,
    "start_time": "2022-06-20T16:49:48.389Z"
   },
   {
    "duration": 27,
    "start_time": "2022-06-20T16:49:54.040Z"
   },
   {
    "duration": 30,
    "start_time": "2022-06-20T16:49:56.948Z"
   },
   {
    "duration": 4,
    "start_time": "2022-06-20T16:50:29.792Z"
   },
   {
    "duration": 3,
    "start_time": "2022-06-20T16:50:32.181Z"
   },
   {
    "duration": 3,
    "start_time": "2022-06-20T16:59:26.726Z"
   },
   {
    "duration": 3,
    "start_time": "2022-06-20T16:59:30.673Z"
   },
   {
    "duration": 3,
    "start_time": "2022-06-20T16:59:49.892Z"
   },
   {
    "duration": 3,
    "start_time": "2022-06-20T16:59:53.439Z"
   },
   {
    "duration": 5,
    "start_time": "2022-06-20T17:00:15.272Z"
   },
   {
    "duration": 74,
    "start_time": "2022-06-20T17:00:29.844Z"
   },
   {
    "duration": 8,
    "start_time": "2022-06-20T17:01:34.573Z"
   },
   {
    "duration": 4,
    "start_time": "2022-06-20T17:02:03.933Z"
   },
   {
    "duration": 69,
    "start_time": "2022-06-20T17:12:51.267Z"
   },
   {
    "duration": 9,
    "start_time": "2022-06-20T18:54:32.073Z"
   },
   {
    "duration": 4,
    "start_time": "2022-06-20T18:54:37.558Z"
   },
   {
    "duration": 429,
    "start_time": "2022-06-20T18:54:46.416Z"
   },
   {
    "duration": 351,
    "start_time": "2022-06-20T18:54:46.846Z"
   },
   {
    "duration": 10,
    "start_time": "2022-06-20T18:54:47.198Z"
   },
   {
    "duration": 35,
    "start_time": "2022-06-20T18:54:47.458Z"
   },
   {
    "duration": 4,
    "start_time": "2022-06-20T18:54:48.551Z"
   },
   {
    "duration": 11,
    "start_time": "2022-06-20T18:54:48.912Z"
   },
   {
    "duration": 3,
    "start_time": "2022-06-20T18:54:49.291Z"
   },
   {
    "duration": 40,
    "start_time": "2022-06-20T18:54:51.181Z"
   },
   {
    "duration": 20,
    "start_time": "2022-06-20T18:54:52.405Z"
   },
   {
    "duration": 24,
    "start_time": "2022-06-20T18:54:53.796Z"
   },
   {
    "duration": 63,
    "start_time": "2022-06-20T18:54:55.801Z"
   },
   {
    "duration": 80,
    "start_time": "2022-06-20T18:54:56.206Z"
   },
   {
    "duration": 60,
    "start_time": "2022-06-20T18:54:56.606Z"
   },
   {
    "duration": 45,
    "start_time": "2022-06-20T18:54:57.354Z"
   },
   {
    "duration": 3,
    "start_time": "2022-06-20T18:55:01.875Z"
   },
   {
    "duration": 37,
    "start_time": "2022-06-20T18:55:03.166Z"
   },
   {
    "duration": 67,
    "start_time": "2022-06-20T18:55:04.508Z"
   },
   {
    "duration": 38,
    "start_time": "2022-06-20T18:55:16.029Z"
   },
   {
    "duration": 31,
    "start_time": "2022-06-20T18:55:18.604Z"
   },
   {
    "duration": 4,
    "start_time": "2022-06-20T18:55:23.988Z"
   },
   {
    "duration": 4,
    "start_time": "2022-06-20T18:58:05.303Z"
   },
   {
    "duration": 13,
    "start_time": "2022-06-20T18:59:59.432Z"
   },
   {
    "duration": 4,
    "start_time": "2022-06-20T19:01:57.661Z"
   },
   {
    "duration": 10,
    "start_time": "2022-06-20T19:02:02.065Z"
   },
   {
    "duration": 25,
    "start_time": "2022-06-20T19:05:08.074Z"
   },
   {
    "duration": 123,
    "start_time": "2022-06-20T19:05:44.449Z"
   },
   {
    "duration": 16,
    "start_time": "2022-06-20T19:06:57.874Z"
   },
   {
    "duration": 11,
    "start_time": "2022-06-20T19:07:26.459Z"
   },
   {
    "duration": 18,
    "start_time": "2022-06-20T19:07:39.043Z"
   },
   {
    "duration": 5,
    "start_time": "2022-06-20T19:09:12.462Z"
   },
   {
    "duration": 10,
    "start_time": "2022-06-20T19:09:28.757Z"
   },
   {
    "duration": 4,
    "start_time": "2022-06-20T19:16:06.975Z"
   },
   {
    "duration": 3,
    "start_time": "2022-06-20T19:24:03.879Z"
   },
   {
    "duration": 7,
    "start_time": "2022-06-20T19:24:07.658Z"
   },
   {
    "duration": 5,
    "start_time": "2022-06-20T19:24:20.158Z"
   },
   {
    "duration": 10,
    "start_time": "2022-06-20T19:28:41.484Z"
   },
   {
    "duration": 4,
    "start_time": "2022-06-20T19:31:22.154Z"
   },
   {
    "duration": 17,
    "start_time": "2022-06-20T19:31:26.388Z"
   },
   {
    "duration": 4,
    "start_time": "2022-06-20T19:32:21.729Z"
   },
   {
    "duration": 18,
    "start_time": "2022-06-20T19:32:27.220Z"
   },
   {
    "duration": 14,
    "start_time": "2022-06-20T19:34:26.115Z"
   },
   {
    "duration": 14,
    "start_time": "2022-06-20T19:35:55.066Z"
   },
   {
    "duration": 16,
    "start_time": "2022-06-20T19:37:15.622Z"
   },
   {
    "duration": 16,
    "start_time": "2022-06-20T19:37:18.056Z"
   },
   {
    "duration": 2,
    "start_time": "2022-06-20T23:22:40.138Z"
   },
   {
    "duration": 264,
    "start_time": "2022-06-20T23:22:40.640Z"
   },
   {
    "duration": 10,
    "start_time": "2022-06-20T23:22:41.158Z"
   },
   {
    "duration": 33,
    "start_time": "2022-06-20T23:22:41.600Z"
   },
   {
    "duration": 3,
    "start_time": "2022-06-20T23:22:43.311Z"
   },
   {
    "duration": 6,
    "start_time": "2022-06-20T23:22:44.046Z"
   },
   {
    "duration": 3,
    "start_time": "2022-06-20T23:22:45.137Z"
   },
   {
    "duration": 23,
    "start_time": "2022-06-20T23:22:46.455Z"
   },
   {
    "duration": 15,
    "start_time": "2022-06-20T23:22:47.471Z"
   },
   {
    "duration": 30,
    "start_time": "2022-06-20T23:22:48.223Z"
   },
   {
    "duration": 61,
    "start_time": "2022-06-20T23:22:49.597Z"
   },
   {
    "duration": 68,
    "start_time": "2022-06-20T23:22:50.390Z"
   },
   {
    "duration": 70,
    "start_time": "2022-06-20T23:22:51.167Z"
   },
   {
    "duration": 45,
    "start_time": "2022-06-20T23:22:53.423Z"
   },
   {
    "duration": 4,
    "start_time": "2022-06-20T23:22:54.470Z"
   },
   {
    "duration": 32,
    "start_time": "2022-06-20T23:22:55.718Z"
   },
   {
    "duration": 41,
    "start_time": "2022-06-20T23:22:57.134Z"
   },
   {
    "duration": 28,
    "start_time": "2022-06-20T23:23:03.183Z"
   },
   {
    "duration": 31,
    "start_time": "2022-06-20T23:23:05.190Z"
   },
   {
    "duration": 4,
    "start_time": "2022-06-20T23:23:07.054Z"
   },
   {
    "duration": 17,
    "start_time": "2022-06-20T23:23:09.150Z"
   },
   {
    "duration": 15,
    "start_time": "2022-06-20T23:30:32.299Z"
   },
   {
    "duration": 7,
    "start_time": "2022-06-20T23:51:49.886Z"
   },
   {
    "duration": 14,
    "start_time": "2022-06-20T23:52:14.126Z"
   },
   {
    "duration": 9,
    "start_time": "2022-06-20T23:52:16.739Z"
   },
   {
    "duration": 10,
    "start_time": "2022-06-20T23:52:57.528Z"
   },
   {
    "duration": 5,
    "start_time": "2022-06-20T23:53:09.719Z"
   },
   {
    "duration": 5,
    "start_time": "2022-06-20T23:53:44.999Z"
   },
   {
    "duration": 9,
    "start_time": "2022-06-20T23:54:01.023Z"
   },
   {
    "duration": 7,
    "start_time": "2022-06-20T23:54:05.839Z"
   },
   {
    "duration": 4,
    "start_time": "2022-06-20T23:54:34.540Z"
   },
   {
    "duration": 4,
    "start_time": "2022-06-20T23:55:05.615Z"
   },
   {
    "duration": 4,
    "start_time": "2022-06-20T23:55:08.511Z"
   },
   {
    "duration": 21,
    "start_time": "2022-06-21T00:06:05.530Z"
   },
   {
    "duration": 2,
    "start_time": "2022-06-21T00:06:41.058Z"
   },
   {
    "duration": 20,
    "start_time": "2022-06-21T00:12:32.211Z"
   },
   {
    "duration": 12,
    "start_time": "2022-06-21T00:12:32.233Z"
   },
   {
    "duration": 347,
    "start_time": "2022-06-21T00:44:38.190Z"
   },
   {
    "duration": 365,
    "start_time": "2022-06-21T00:44:38.542Z"
   },
   {
    "duration": 10,
    "start_time": "2022-06-21T00:44:38.908Z"
   },
   {
    "duration": 28,
    "start_time": "2022-06-21T00:44:39.275Z"
   },
   {
    "duration": 3,
    "start_time": "2022-06-21T00:44:40.439Z"
   },
   {
    "duration": 12,
    "start_time": "2022-06-21T00:44:40.825Z"
   },
   {
    "duration": 3,
    "start_time": "2022-06-21T00:44:41.238Z"
   },
   {
    "duration": 24,
    "start_time": "2022-06-21T00:44:41.838Z"
   },
   {
    "duration": 27,
    "start_time": "2022-06-21T00:44:42.213Z"
   },
   {
    "duration": 22,
    "start_time": "2022-06-21T00:44:53.493Z"
   },
   {
    "duration": 62,
    "start_time": "2022-06-21T00:44:54.341Z"
   },
   {
    "duration": 67,
    "start_time": "2022-06-21T00:44:54.906Z"
   },
   {
    "duration": 51,
    "start_time": "2022-06-21T00:44:55.338Z"
   },
   {
    "duration": 46,
    "start_time": "2022-06-21T00:44:56.116Z"
   },
   {
    "duration": 3,
    "start_time": "2022-06-21T00:44:56.538Z"
   },
   {
    "duration": 28,
    "start_time": "2022-06-21T00:44:57.438Z"
   },
   {
    "duration": 38,
    "start_time": "2022-06-21T00:44:58.044Z"
   },
   {
    "duration": 29,
    "start_time": "2022-06-21T00:45:03.188Z"
   },
   {
    "duration": 36,
    "start_time": "2022-06-21T00:45:04.324Z"
   },
   {
    "duration": 4,
    "start_time": "2022-06-21T00:45:05.651Z"
   },
   {
    "duration": 15,
    "start_time": "2022-06-21T00:45:06.938Z"
   },
   {
    "duration": 16,
    "start_time": "2022-06-21T00:45:07.668Z"
   },
   {
    "duration": 18,
    "start_time": "2022-06-21T00:45:07.940Z"
   },
   {
    "duration": 14,
    "start_time": "2022-06-21T00:45:08.170Z"
   },
   {
    "duration": 16,
    "start_time": "2022-06-21T00:45:08.401Z"
   },
   {
    "duration": 15,
    "start_time": "2022-06-21T00:45:08.956Z"
   },
   {
    "duration": 4,
    "start_time": "2022-06-21T00:45:09.595Z"
   },
   {
    "duration": 6,
    "start_time": "2022-06-21T00:45:10.515Z"
   },
   {
    "duration": 49,
    "start_time": "2022-06-21T01:02:12.259Z"
   },
   {
    "duration": 5,
    "start_time": "2022-06-21T01:02:20.413Z"
   },
   {
    "duration": 55,
    "start_time": "2022-06-21T01:02:23.484Z"
   },
   {
    "duration": 2,
    "start_time": "2022-06-21T01:02:24.534Z"
   },
   {
    "duration": 66,
    "start_time": "2022-06-21T01:02:45.005Z"
   },
   {
    "duration": 12,
    "start_time": "2022-06-21T01:03:38.940Z"
   },
   {
    "duration": 13,
    "start_time": "2022-06-21T01:03:41.414Z"
   },
   {
    "duration": 8,
    "start_time": "2022-06-21T01:04:59.804Z"
   },
   {
    "duration": 15,
    "start_time": "2022-06-21T01:05:17.023Z"
   },
   {
    "duration": 14,
    "start_time": "2022-06-21T01:05:50.387Z"
   },
   {
    "duration": 69,
    "start_time": "2022-06-21T01:53:08.979Z"
   },
   {
    "duration": 48,
    "start_time": "2022-06-21T01:53:49.491Z"
   },
   {
    "duration": 50,
    "start_time": "2022-06-21T01:54:03.370Z"
   },
   {
    "duration": 4,
    "start_time": "2022-06-21T01:54:31.323Z"
   },
   {
    "duration": 47,
    "start_time": "2022-06-21T01:55:53.987Z"
   },
   {
    "duration": 385,
    "start_time": "2022-06-21T15:26:40.794Z"
   },
   {
    "duration": 346,
    "start_time": "2022-06-21T15:26:41.182Z"
   },
   {
    "duration": 11,
    "start_time": "2022-06-21T15:26:41.555Z"
   },
   {
    "duration": 26,
    "start_time": "2022-06-21T15:26:41.908Z"
   },
   {
    "duration": 3,
    "start_time": "2022-06-21T15:26:43.256Z"
   },
   {
    "duration": 13,
    "start_time": "2022-06-21T15:26:43.682Z"
   },
   {
    "duration": 4,
    "start_time": "2022-06-21T15:26:44.013Z"
   },
   {
    "duration": 25,
    "start_time": "2022-06-21T15:26:44.574Z"
   },
   {
    "duration": 26,
    "start_time": "2022-06-21T15:26:44.994Z"
   },
   {
    "duration": 34,
    "start_time": "2022-06-21T15:26:45.385Z"
   },
   {
    "duration": 60,
    "start_time": "2022-06-21T15:26:46.150Z"
   },
   {
    "duration": 66,
    "start_time": "2022-06-21T15:26:46.539Z"
   },
   {
    "duration": 60,
    "start_time": "2022-06-21T15:26:46.951Z"
   },
   {
    "duration": 39,
    "start_time": "2022-06-21T15:26:47.551Z"
   },
   {
    "duration": 3,
    "start_time": "2022-06-21T15:26:47.951Z"
   },
   {
    "duration": 24,
    "start_time": "2022-06-21T15:26:48.321Z"
   },
   {
    "duration": 46,
    "start_time": "2022-06-21T15:26:49.002Z"
   },
   {
    "duration": 29,
    "start_time": "2022-06-21T15:26:52.758Z"
   },
   {
    "duration": 27,
    "start_time": "2022-06-21T15:26:53.191Z"
   },
   {
    "duration": 3,
    "start_time": "2022-06-21T15:26:54.306Z"
   },
   {
    "duration": 16,
    "start_time": "2022-06-21T15:26:55.478Z"
   },
   {
    "duration": 15,
    "start_time": "2022-06-21T15:26:55.675Z"
   },
   {
    "duration": 14,
    "start_time": "2022-06-21T15:26:55.876Z"
   },
   {
    "duration": 13,
    "start_time": "2022-06-21T15:26:56.065Z"
   },
   {
    "duration": 16,
    "start_time": "2022-06-21T15:26:56.279Z"
   },
   {
    "duration": 13,
    "start_time": "2022-06-21T15:26:56.431Z"
   },
   {
    "duration": 5,
    "start_time": "2022-06-21T15:26:56.882Z"
   },
   {
    "duration": 5,
    "start_time": "2022-06-21T15:26:57.104Z"
   },
   {
    "duration": 16,
    "start_time": "2022-06-21T15:27:09.461Z"
   },
   {
    "duration": 14,
    "start_time": "2022-06-21T15:27:11.579Z"
   },
   {
    "duration": 9,
    "start_time": "2022-06-21T15:42:22.367Z"
   },
   {
    "duration": 6,
    "start_time": "2022-06-21T15:42:26.063Z"
   },
   {
    "duration": 61,
    "start_time": "2022-06-21T15:51:07.273Z"
   },
   {
    "duration": 85,
    "start_time": "2022-06-21T15:52:21.105Z"
   },
   {
    "duration": 91,
    "start_time": "2022-06-21T15:52:59.281Z"
   },
   {
    "duration": 416,
    "start_time": "2022-06-21T18:33:13.846Z"
   },
   {
    "duration": 364,
    "start_time": "2022-06-21T18:33:14.263Z"
   },
   {
    "duration": 12,
    "start_time": "2022-06-21T18:33:14.630Z"
   },
   {
    "duration": 27,
    "start_time": "2022-06-21T18:33:14.998Z"
   },
   {
    "duration": 14,
    "start_time": "2022-06-21T18:33:18.264Z"
   },
   {
    "duration": 11,
    "start_time": "2022-06-21T18:33:19.730Z"
   },
   {
    "duration": 4,
    "start_time": "2022-06-21T18:33:20.440Z"
   },
   {
    "duration": 21,
    "start_time": "2022-06-21T18:33:21.079Z"
   },
   {
    "duration": 18,
    "start_time": "2022-06-21T18:33:21.407Z"
   },
   {
    "duration": 20,
    "start_time": "2022-06-21T18:33:21.787Z"
   },
   {
    "duration": 57,
    "start_time": "2022-06-21T18:33:22.492Z"
   },
   {
    "duration": 66,
    "start_time": "2022-06-21T18:33:22.879Z"
   },
   {
    "duration": 62,
    "start_time": "2022-06-21T18:33:23.255Z"
   },
   {
    "duration": 33,
    "start_time": "2022-06-21T18:33:23.826Z"
   },
   {
    "duration": 3,
    "start_time": "2022-06-21T18:33:24.185Z"
   },
   {
    "duration": 31,
    "start_time": "2022-06-21T18:33:24.561Z"
   },
   {
    "duration": 42,
    "start_time": "2022-06-21T18:33:24.935Z"
   },
   {
    "duration": 27,
    "start_time": "2022-06-21T18:33:26.539Z"
   },
   {
    "duration": 31,
    "start_time": "2022-06-21T18:33:26.997Z"
   },
   {
    "duration": 4,
    "start_time": "2022-06-21T18:33:28.585Z"
   },
   {
    "duration": 17,
    "start_time": "2022-06-21T18:33:32.894Z"
   },
   {
    "duration": 13,
    "start_time": "2022-06-21T18:33:33.306Z"
   },
   {
    "duration": 25,
    "start_time": "2022-06-21T18:33:33.763Z"
   },
   {
    "duration": 15,
    "start_time": "2022-06-21T18:33:34.409Z"
   },
   {
    "duration": 28,
    "start_time": "2022-06-21T18:33:35.461Z"
   },
   {
    "duration": 15,
    "start_time": "2022-06-21T18:33:36.525Z"
   },
   {
    "duration": 4,
    "start_time": "2022-06-21T18:33:38.024Z"
   },
   {
    "duration": 5,
    "start_time": "2022-06-21T18:33:38.695Z"
   },
   {
    "duration": 16,
    "start_time": "2022-06-21T18:33:43.114Z"
   },
   {
    "duration": 13,
    "start_time": "2022-06-21T18:33:44.005Z"
   },
   {
    "duration": 488,
    "start_time": "2022-06-21T23:12:03.471Z"
   },
   {
    "duration": 483,
    "start_time": "2022-06-21T23:12:03.962Z"
   },
   {
    "duration": 12,
    "start_time": "2022-06-21T23:12:04.447Z"
   },
   {
    "duration": 30,
    "start_time": "2022-06-21T23:12:04.543Z"
   },
   {
    "duration": 5,
    "start_time": "2022-06-21T23:12:05.663Z"
   },
   {
    "duration": 14,
    "start_time": "2022-06-21T23:12:06.047Z"
   },
   {
    "duration": 5,
    "start_time": "2022-06-21T23:12:06.377Z"
   },
   {
    "duration": 38,
    "start_time": "2022-06-21T23:12:06.968Z"
   },
   {
    "duration": 29,
    "start_time": "2022-06-21T23:12:07.373Z"
   },
   {
    "duration": 53,
    "start_time": "2022-06-21T23:12:07.798Z"
   },
   {
    "duration": 69,
    "start_time": "2022-06-21T23:12:08.575Z"
   },
   {
    "duration": 94,
    "start_time": "2022-06-21T23:12:08.996Z"
   },
   {
    "duration": 67,
    "start_time": "2022-06-21T23:12:09.394Z"
   },
   {
    "duration": 67,
    "start_time": "2022-06-21T23:12:09.975Z"
   },
   {
    "duration": 6,
    "start_time": "2022-06-21T23:12:10.397Z"
   },
   {
    "duration": 43,
    "start_time": "2022-06-21T23:12:10.808Z"
   },
   {
    "duration": 69,
    "start_time": "2022-06-21T23:12:11.471Z"
   },
   {
    "duration": 48,
    "start_time": "2022-06-21T23:12:16.126Z"
   },
   {
    "duration": 58,
    "start_time": "2022-06-21T23:12:17.327Z"
   },
   {
    "duration": 5,
    "start_time": "2022-06-21T23:12:19.055Z"
   },
   {
    "duration": 31,
    "start_time": "2022-06-21T23:12:20.006Z"
   },
   {
    "duration": 21,
    "start_time": "2022-06-21T23:12:20.400Z"
   },
   {
    "duration": 29,
    "start_time": "2022-06-21T23:12:20.824Z"
   },
   {
    "duration": 22,
    "start_time": "2022-06-21T23:12:21.200Z"
   },
   {
    "duration": 29,
    "start_time": "2022-06-21T23:12:21.601Z"
   },
   {
    "duration": 17,
    "start_time": "2022-06-21T23:12:21.947Z"
   },
   {
    "duration": 6,
    "start_time": "2022-06-21T23:12:22.775Z"
   },
   {
    "duration": 7,
    "start_time": "2022-06-21T23:12:23.312Z"
   },
   {
    "duration": 23,
    "start_time": "2022-06-21T23:12:26.674Z"
   },
   {
    "duration": 29,
    "start_time": "2022-06-21T23:12:27.236Z"
   },
   {
    "duration": 7,
    "start_time": "2022-06-21T23:12:28.875Z"
   },
   {
    "duration": 107,
    "start_time": "2022-06-21T23:18:41.074Z"
   },
   {
    "duration": 140,
    "start_time": "2022-06-21T23:18:58.598Z"
   },
   {
    "duration": 75,
    "start_time": "2022-06-21T23:25:17.798Z"
   },
   {
    "duration": 116,
    "start_time": "2022-06-21T23:25:27.063Z"
   },
   {
    "duration": 8,
    "start_time": "2022-06-21T23:25:41.223Z"
   },
   {
    "duration": 104,
    "start_time": "2022-06-21T23:25:44.001Z"
   },
   {
    "duration": 102,
    "start_time": "2022-06-21T23:25:57.457Z"
   },
   {
    "duration": 123,
    "start_time": "2022-06-21T23:26:00.099Z"
   },
   {
    "duration": 6,
    "start_time": "2022-06-21T23:32:27.317Z"
   },
   {
    "duration": 48,
    "start_time": "2022-06-21T23:32:30.046Z"
   },
   {
    "duration": 57,
    "start_time": "2022-06-21T23:32:33.165Z"
   },
   {
    "duration": 62,
    "start_time": "2022-06-21T23:33:25.401Z"
   },
   {
    "duration": 54,
    "start_time": "2022-06-21T23:33:28.323Z"
   },
   {
    "duration": 7,
    "start_time": "2022-06-21T23:34:10.200Z"
   },
   {
    "duration": 3,
    "start_time": "2022-06-21T23:35:07.470Z"
   },
   {
    "duration": 11,
    "start_time": "2022-06-21T23:37:47.534Z"
   },
   {
    "duration": 9,
    "start_time": "2022-06-21T23:40:41.778Z"
   },
   {
    "duration": 36,
    "start_time": "2022-06-21T23:43:06.960Z"
   },
   {
    "duration": 53,
    "start_time": "2022-06-21T23:43:11.633Z"
   },
   {
    "duration": 6,
    "start_time": "2022-06-21T23:47:21.913Z"
   },
   {
    "duration": 12,
    "start_time": "2022-06-21T23:48:02.824Z"
   },
   {
    "duration": 20,
    "start_time": "2022-06-21T23:48:17.104Z"
   },
   {
    "duration": 13,
    "start_time": "2022-06-21T23:48:35.176Z"
   },
   {
    "duration": 30,
    "start_time": "2022-06-21T23:50:53.043Z"
   },
   {
    "duration": 19,
    "start_time": "2022-06-21T23:51:31.806Z"
   },
   {
    "duration": 12,
    "start_time": "2022-06-22T00:05:59.503Z"
   },
   {
    "duration": 8,
    "start_time": "2022-06-22T00:14:47.643Z"
   },
   {
    "duration": 8,
    "start_time": "2022-06-22T00:18:09.682Z"
   },
   {
    "duration": 8,
    "start_time": "2022-06-22T00:18:24.369Z"
   },
   {
    "duration": 5,
    "start_time": "2022-06-22T00:18:26.617Z"
   },
   {
    "duration": 26,
    "start_time": "2022-06-22T00:19:48.378Z"
   },
   {
    "duration": 57,
    "start_time": "2022-06-22T00:19:55.126Z"
   },
   {
    "duration": 39,
    "start_time": "2022-06-22T00:20:25.864Z"
   },
   {
    "duration": 5,
    "start_time": "2022-06-22T00:20:28.886Z"
   },
   {
    "duration": 117,
    "start_time": "2022-06-22T00:21:08.712Z"
   },
   {
    "duration": 18,
    "start_time": "2022-06-22T00:21:14.749Z"
   },
   {
    "duration": 4,
    "start_time": "2022-06-22T00:21:16.598Z"
   },
   {
    "duration": 4,
    "start_time": "2022-06-22T00:21:20.607Z"
   },
   {
    "duration": 9,
    "start_time": "2022-06-22T00:26:01.561Z"
   },
   {
    "duration": 5,
    "start_time": "2022-06-22T00:26:22.581Z"
   },
   {
    "duration": 425,
    "start_time": "2022-06-22T16:56:52.256Z"
   },
   {
    "duration": 875,
    "start_time": "2022-06-22T16:56:52.683Z"
   },
   {
    "duration": 10,
    "start_time": "2022-06-22T16:56:53.560Z"
   },
   {
    "duration": 29,
    "start_time": "2022-06-22T16:56:53.572Z"
   },
   {
    "duration": 3,
    "start_time": "2022-06-22T16:56:53.603Z"
   },
   {
    "duration": 11,
    "start_time": "2022-06-22T16:56:53.669Z"
   },
   {
    "duration": 6,
    "start_time": "2022-06-22T16:56:53.681Z"
   },
   {
    "duration": 29,
    "start_time": "2022-06-22T16:56:53.688Z"
   },
   {
    "duration": 17,
    "start_time": "2022-06-22T16:56:53.719Z"
   },
   {
    "duration": 27,
    "start_time": "2022-06-22T16:56:53.738Z"
   },
   {
    "duration": 61,
    "start_time": "2022-06-22T16:56:53.767Z"
   },
   {
    "duration": 67,
    "start_time": "2022-06-22T16:56:53.919Z"
   },
   {
    "duration": 55,
    "start_time": "2022-06-22T16:56:53.988Z"
   },
   {
    "duration": 44,
    "start_time": "2022-06-22T16:56:54.045Z"
   },
   {
    "duration": 3,
    "start_time": "2022-06-22T16:56:54.091Z"
   },
   {
    "duration": 29,
    "start_time": "2022-06-22T16:56:54.097Z"
   },
   {
    "duration": 64,
    "start_time": "2022-06-22T16:56:54.128Z"
   },
   {
    "duration": 31,
    "start_time": "2022-06-22T16:56:54.194Z"
   },
   {
    "duration": 56,
    "start_time": "2022-06-22T16:56:54.227Z"
   },
   {
    "duration": 3,
    "start_time": "2022-06-22T16:56:54.285Z"
   },
   {
    "duration": 23,
    "start_time": "2022-06-22T16:56:54.289Z"
   },
   {
    "duration": 14,
    "start_time": "2022-06-22T16:56:54.314Z"
   },
   {
    "duration": 33,
    "start_time": "2022-06-22T16:56:54.329Z"
   },
   {
    "duration": 16,
    "start_time": "2022-06-22T16:56:54.364Z"
   },
   {
    "duration": 17,
    "start_time": "2022-06-22T16:56:54.437Z"
   },
   {
    "duration": 15,
    "start_time": "2022-06-22T16:56:54.456Z"
   },
   {
    "duration": 4,
    "start_time": "2022-06-22T16:56:54.472Z"
   },
   {
    "duration": 10,
    "start_time": "2022-06-22T16:56:54.478Z"
   },
   {
    "duration": 18,
    "start_time": "2022-06-22T16:56:54.490Z"
   },
   {
    "duration": 14,
    "start_time": "2022-06-22T16:56:54.510Z"
   },
   {
    "duration": 5,
    "start_time": "2022-06-22T16:56:55.548Z"
   },
   {
    "duration": 27,
    "start_time": "2022-06-22T16:56:55.555Z"
   },
   {
    "duration": 13,
    "start_time": "2022-06-22T16:56:56.377Z"
   },
   {
    "duration": 30,
    "start_time": "2022-06-22T16:56:56.392Z"
   },
   {
    "duration": 17,
    "start_time": "2022-06-22T16:56:56.423Z"
   },
   {
    "duration": 8,
    "start_time": "2022-06-22T16:56:56.442Z"
   },
   {
    "duration": 4,
    "start_time": "2022-06-22T16:56:56.452Z"
   },
   {
    "duration": 7,
    "start_time": "2022-06-22T16:56:56.617Z"
   },
   {
    "duration": 4,
    "start_time": "2022-06-22T16:56:56.626Z"
   },
   {
    "duration": 442,
    "start_time": "2022-06-22T17:40:41.739Z"
   },
   {
    "duration": 387,
    "start_time": "2022-06-22T17:40:42.183Z"
   },
   {
    "duration": 13,
    "start_time": "2022-06-22T17:40:42.574Z"
   },
   {
    "duration": 29,
    "start_time": "2022-06-22T17:40:42.885Z"
   },
   {
    "duration": 4,
    "start_time": "2022-06-22T17:40:44.250Z"
   },
   {
    "duration": 11,
    "start_time": "2022-06-22T17:40:44.671Z"
   },
   {
    "duration": 3,
    "start_time": "2022-06-22T17:40:45.236Z"
   },
   {
    "duration": 25,
    "start_time": "2022-06-22T17:40:45.806Z"
   },
   {
    "duration": 18,
    "start_time": "2022-06-22T17:40:46.213Z"
   },
   {
    "duration": 21,
    "start_time": "2022-06-22T17:40:46.813Z"
   },
   {
    "duration": 70,
    "start_time": "2022-06-22T17:40:47.583Z"
   },
   {
    "duration": 69,
    "start_time": "2022-06-22T17:40:48.026Z"
   },
   {
    "duration": 51,
    "start_time": "2022-06-22T17:40:48.440Z"
   },
   {
    "duration": 36,
    "start_time": "2022-06-22T17:40:49.032Z"
   },
   {
    "duration": 4,
    "start_time": "2022-06-22T17:40:49.420Z"
   },
   {
    "duration": 31,
    "start_time": "2022-06-22T17:40:49.809Z"
   },
   {
    "duration": 37,
    "start_time": "2022-06-22T17:40:50.202Z"
   },
   {
    "duration": 29,
    "start_time": "2022-06-22T17:40:52.200Z"
   },
   {
    "duration": 29,
    "start_time": "2022-06-22T17:40:53.987Z"
   },
   {
    "duration": 4,
    "start_time": "2022-06-22T17:40:59.697Z"
   },
   {
    "duration": 16,
    "start_time": "2022-06-22T17:41:01.314Z"
   },
   {
    "duration": 15,
    "start_time": "2022-06-22T17:41:01.505Z"
   },
   {
    "duration": 16,
    "start_time": "2022-06-22T17:41:01.720Z"
   },
   {
    "duration": 15,
    "start_time": "2022-06-22T17:41:01.944Z"
   },
   {
    "duration": 16,
    "start_time": "2022-06-22T17:41:02.132Z"
   },
   {
    "duration": 14,
    "start_time": "2022-06-22T17:41:02.320Z"
   },
   {
    "duration": 4,
    "start_time": "2022-06-22T17:41:02.754Z"
   },
   {
    "duration": 4,
    "start_time": "2022-06-22T17:41:03.150Z"
   },
   {
    "duration": 7,
    "start_time": "2022-06-22T17:41:13.288Z"
   },
   {
    "duration": 11,
    "start_time": "2022-06-22T17:42:01.394Z"
   }
  ],
  "colab": {
   "collapsed_sections": [
    "E0vqbgi9ay0H",
    "VUC88oWjTJw2",
    "atZAxtq4_Zcu"
   ],
   "name": "EmptyFinalProject.ipynb\"",
   "provenance": []
  },
  "kernelspec": {
   "display_name": "Python 3 (ipykernel)",
   "language": "python",
   "name": "python3"
  },
  "language_info": {
   "codemirror_mode": {
    "name": "ipython",
    "version": 3
   },
   "file_extension": ".py",
   "mimetype": "text/x-python",
   "name": "python",
   "nbconvert_exporter": "python",
   "pygments_lexer": "ipython3",
   "version": "3.9.5"
  },
  "toc": {
   "base_numbering": 1,
   "nav_menu": {},
   "number_sections": true,
   "sideBar": true,
   "skip_h1_title": true,
   "title_cell": "Table of Contents",
   "title_sidebar": "Contents",
   "toc_cell": false,
   "toc_position": {},
   "toc_section_display": true,
   "toc_window_display": false
  }
 },
 "nbformat": 4,
 "nbformat_minor": 4
}
